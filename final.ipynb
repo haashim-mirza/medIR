{
 "cells": [
  {
   "cell_type": "code",
   "execution_count": 1,
   "metadata": {},
   "outputs": [],
   "source": [
    "import numpy as np\n",
    "import pandas as pd\n",
    "import matplotlib.pyplot as plt\n",
    "import seaborn as sns\n",
    "from langchain.embeddings import OpenAIEmbeddings, HuggingFaceEmbeddings, HuggingFaceInferenceAPIEmbeddings\n",
    "from langchain.vectorstores import FAISS\n",
    "from langchain.agents.agent_toolkits.conversational_retrieval.tool import create_retriever_tool\n",
    "from langchain.docstore.document import Document\n",
    "from langchain.text_splitter import CharacterTextSplitter\n",
    "import json\n",
    "\n"
   ]
  },
  {
   "cell_type": "code",
   "execution_count": 2,
   "metadata": {},
   "outputs": [],
   "source": [
    "docs = []\n",
    "with open(\"final_data.json\") as f:\n",
    "    for line in f:\n",
    "        row = json.loads(line)\n",
    "        doc = Document(\n",
    "            page_content = row[\"text\"],\n",
    "            metadata={\"title\": row[\"title\"], \"id\": row[\"docid\"], \"source\": row[\"text\"]},\n",
    "        )\n",
    "        docs.append(doc)\n"
   ]
  },
  {
   "cell_type": "code",
   "execution_count": 3,
   "metadata": {},
   "outputs": [
    {
     "data": {
      "text/plain": [
       "Document(page_content=\"There are four main types of diabetic neuropathy. You can have one type or more than one type of neuropathy.Numbness or reduced ability to feel pain or temperature changes Tingling or burning feeling Sharp pains or cramps Muscle weakness Extreme sensitivity to touch — for some people, even a bedsheet's weight can be painful Serious foot problems, such as ulcers, infections, and bone and joint damage\", metadata={'title': 'Diabetic neuropathy', 'id': 1, 'source': \"There are four main types of diabetic neuropathy. You can have one type or more than one type of neuropathy.Numbness or reduced ability to feel pain or temperature changes Tingling or burning feeling Sharp pains or cramps Muscle weakness Extreme sensitivity to touch — for some people, even a bedsheet's weight can be painful Serious foot problems, such as ulcers, infections, and bone and joint damage\"})"
      ]
     },
     "execution_count": 3,
     "metadata": {},
     "output_type": "execute_result"
    }
   ],
   "source": [
    "docs[0]\n"
   ]
  },
  {
   "cell_type": "code",
   "execution_count": 4,
   "metadata": {},
   "outputs": [],
   "source": [
    "text_splitter = CharacterTextSplitter(chunk_size=1000, chunk_overlap=0)\n",
    "docs = text_splitter.split_documents(docs)\n"
   ]
  },
  {
   "cell_type": "code",
   "execution_count": 5,
   "metadata": {},
   "outputs": [
    {
     "data": {
      "text/plain": [
       "Document(page_content=\"There are four main types of diabetic neuropathy. You can have one type or more than one type of neuropathy.Numbness or reduced ability to feel pain or temperature changes Tingling or burning feeling Sharp pains or cramps Muscle weakness Extreme sensitivity to touch — for some people, even a bedsheet's weight can be painful Serious foot problems, such as ulcers, infections, and bone and joint damage\", metadata={'title': 'Diabetic neuropathy', 'id': 1, 'source': \"There are four main types of diabetic neuropathy. You can have one type or more than one type of neuropathy.Numbness or reduced ability to feel pain or temperature changes Tingling or burning feeling Sharp pains or cramps Muscle weakness Extreme sensitivity to touch — for some people, even a bedsheet's weight can be painful Serious foot problems, such as ulcers, infections, and bone and joint damage\"})"
      ]
     },
     "execution_count": 5,
     "metadata": {},
     "output_type": "execute_result"
    }
   ],
   "source": [
    "docs[0]\n"
   ]
  },
  {
   "cell_type": "code",
   "execution_count": 6,
   "metadata": {},
   "outputs": [],
   "source": [
    "embeddings = HuggingFaceEmbeddings(model_name=\"all-MiniLM-L6-v2\")\n"
   ]
  },
  {
   "cell_type": "code",
   "execution_count": 37,
   "metadata": {},
   "outputs": [],
   "source": [
    "# db = FAISS.from_documents(docs, embeddings)\n",
    "# db.save_local(\"symptomdb.faiss\")\n"
   ]
  },
  {
   "cell_type": "code",
   "execution_count": 7,
   "metadata": {},
   "outputs": [],
   "source": [
    "db = FAISS.load_local(\"symptomdb.faiss\", embeddings)\n"
   ]
  },
  {
   "cell_type": "code",
   "execution_count": 8,
   "metadata": {},
   "outputs": [],
   "source": [
    "from langchain.memory import ConversationBufferMemory\n",
    "from langchain.chains import ConversationalRetrievalChain, RetrievalQAWithSourcesChain\n",
    "from langchain.chat_models import ChatOpenAI\n",
    "from dotenv import load_dotenv\n",
    "from langchain.prompts import PromptTemplate\n",
    "import os\n"
   ]
  },
  {
   "cell_type": "code",
   "execution_count": 9,
   "metadata": {},
   "outputs": [],
   "source": [
    "load_dotenv()\n",
    "os.environ[\"OPENAI_API_KEY\"] = os.getenv(\"OPENAI_API_KEY\")\n"
   ]
  },
  {
   "cell_type": "code",
   "execution_count": 10,
   "metadata": {},
   "outputs": [],
   "source": [
    "llm = ChatOpenAI(temperature=0)\n"
   ]
  },
  {
   "cell_type": "markdown",
   "metadata": {},
   "source": [
    "# Query Augmentation"
   ]
  },
  {
   "cell_type": "code",
   "execution_count": 11,
   "metadata": {},
   "outputs": [],
   "source": [
    "from langchain.retrievers.multi_query import MultiQueryRetriever\n",
    "from langchain.callbacks.manager import CallbackManagerForRetrieverRun\n",
    "import logging\n",
    "\n",
    "logging.basicConfig()\n",
    "logging.getLogger(\"langchain.retrievers.multi_query\").setLevel(logging.INFO)\n",
    "retriever = MultiQueryRetriever.from_llm(\n",
    "    retriever=db.as_retriever(), llm=llm\n",
    ")"
   ]
  },
  {
   "cell_type": "code",
   "execution_count": 60,
   "metadata": {},
   "outputs": [],
   "source": [
    "run_manager = CallbackManagerForRetrieverRun"
   ]
  },
  {
   "cell_type": "code",
   "execution_count": 36,
   "metadata": {},
   "outputs": [
    {
     "name": "stderr",
     "output_type": "stream",
     "text": [
      "INFO:langchain.retrievers.multi_query:Generated queries: ['1. What are the primary symptoms associated with albinism?', '2. Can you identify the main signs of albinism?', '3. What are the two main indicators of albinism?', '4. Which symptoms are typically observed in individuals with albinism?', '', 'symptoms, albinism']\n"
     ]
    },
    {
     "data": {
      "text/plain": [
       "13"
      ]
     },
     "execution_count": 36,
     "metadata": {},
     "output_type": "execute_result"
    }
   ],
   "source": [
    "# question = [\"I have a headache and fever with a dry cough?\", \"headache, fever, dry cough\"]\n",
    "question = \"Which two are the main symptoms of albinism?\"\n",
    "\n",
    "QA_Docs = retriever.get_relevant_documents(query=question)\n",
    "len(QA_Docs)"
   ]
  },
  {
   "cell_type": "code",
   "execution_count": 58,
   "metadata": {},
   "outputs": [
    {
     "name": "stderr",
     "output_type": "stream",
     "text": [
      "INFO:langchain.retrievers.multi_query:Generated queries: ['1. What are the primary symptoms associated with albinism?', '2. Can you identify the two main symptoms commonly observed in individuals with albinism?', '3. What are the key signs of albinism, specifically the two main symptoms?', '4. Could you please list the primary symptoms that characterize albinism?', '5. What are the two main symptoms typically seen in individuals with albinism?', '', 'main symptoms, albinism']\n"
     ]
    },
    {
     "data": {
      "text/plain": [
       "12"
      ]
     },
     "execution_count": 58,
     "metadata": {},
     "output_type": "execute_result"
    }
   ],
   "source": [
    "from typing import List\n",
    "from langchain import LLMChain\n",
    "from pydantic import BaseModel, Field\n",
    "from langchain.prompts import PromptTemplate\n",
    "from langchain.output_parsers import PydanticOutputParser\n",
    "\n",
    "# Output parser will split the LLM result into a list of queries\n",
    "class LineList(BaseModel):\n",
    "    # \"lines\" is the key (attribute name) of the parsed output\n",
    "    lines: List[str] = Field(description=\"Lines of text\")\n",
    "\n",
    "class LineListOutputParser(PydanticOutputParser):\n",
    "    def __init__(self) -> None:\n",
    "        super().__init__(pydantic_object=LineList)\n",
    "\n",
    "    def parse(self, text: str) -> LineList:\n",
    "        lines = text.strip().split(\"\\n\")\n",
    "        return LineList(lines=lines)\n",
    "\n",
    "output_parser = LineListOutputParser()\n",
    "\n",
    "QUERY_PROMPT = PromptTemplate(\n",
    "    input_variables=[\"question\"],\n",
    "    template=\"\"\"You are an AI language model assistant. Your task is to generate five\n",
    "    different versions of the given user question to retrieve relevant documents from a vector\n",
    "    database. By generating multiple perspectives on the user question, your goal is to help\n",
    "    the user overcome some of the limitations of the distance-based similarity search. The last query should just be the 5 most important words of the original question.\n",
    "    Provide these alternative questions seperated by newlines.\n",
    "    Original question: {question}\"\"\",\n",
    ")\n",
    "# llm = ChatOpenAI(temperature=0)\n",
    "\n",
    "# Chain\n",
    "llm_chain = LLMChain(llm=llm, prompt=QUERY_PROMPT, output_parser=output_parser)\n",
    "\n",
    "# Other inputs\n",
    "# question = \"What are the approaches to Task Decomposition?\"\n",
    "\n",
    "# Run\n",
    "retriever = MultiQueryRetriever(\n",
    "    retriever=db.as_retriever(), llm_chain=llm_chain, parser_key=\"lines\"\n",
    ")  # \"lines\" is the key (attribute name) of the parsed output\n",
    "# Results\n",
    "unique_docs = retriever.get_relevant_documents(\n",
    "    query=question\n",
    ")\n",
    "len(unique_docs)"
   ]
  },
  {
   "cell_type": "code",
   "execution_count": 40,
   "metadata": {},
   "outputs": [],
   "source": [
    "queries_list= llm_chain.run(question)"
   ]
  },
  {
   "cell_type": "code",
   "execution_count": 43,
   "metadata": {},
   "outputs": [
    {
     "data": {
      "text/plain": [
       "['1. What are the primary symptoms associated with albinism?',\n",
       " '2. Can you identify the two main symptoms commonly observed in individuals with albinism?',\n",
       " '3. What are the key signs of albinism, specifically the two main symptoms?',\n",
       " '4. Could you please describe the primary symptoms of albinism?',\n",
       " '',\n",
       " 'main symptoms albinism']"
      ]
     },
     "execution_count": 43,
     "metadata": {},
     "output_type": "execute_result"
    }
   ],
   "source": [
    "queries_list.lines"
   ]
  },
  {
   "cell_type": "code",
   "execution_count": 62,
   "metadata": {},
   "outputs": [
    {
     "ename": "TypeError",
     "evalue": "BaseRunManager.__init__() missing 3 required keyword-only arguments: 'run_id', 'handlers', and 'inheritable_handlers'",
     "output_type": "error",
     "traceback": [
      "\u001b[0;31m---------------------------------------------------------------------------\u001b[0m",
      "\u001b[0;31mTypeError\u001b[0m                                 Traceback (most recent call last)",
      "Cell \u001b[0;32mIn[62], line 1\u001b[0m\n\u001b[0;32m----> 1\u001b[0m queries \u001b[38;5;241m=\u001b[39m retriever\u001b[38;5;241m.\u001b[39mgenerate_queries(question, \u001b[43mrun_manager\u001b[49m\u001b[43m(\u001b[49m\u001b[43m)\u001b[49m)\n",
      "\u001b[0;31mTypeError\u001b[0m: BaseRunManager.__init__() missing 3 required keyword-only arguments: 'run_id', 'handlers', and 'inheritable_handlers'"
     ]
    }
   ],
   "source": [
    "queries = retriever.generate_queries(question, run_manager())"
   ]
  },
  {
   "cell_type": "code",
   "execution_count": 44,
   "metadata": {},
   "outputs": [
    {
     "data": {
      "text/plain": [
       "[Document(page_content='At first, the flu may seem like a cold with a runny nose, sneezing and sore throat. Colds usually start slowly. But the flu tends to come on quickly. And while a cold can be miserable, you usually feel much worse with the flu.Headache. Dry, persistent cough. Shortness of breath. Tiredness and weakness. Runny or stuffy nose. Sore throat. Eye pain.', metadata={'title': 'Influenza (flu)', 'id': 466, 'source': 'At first, the flu may seem like a cold with a runny nose, sneezing and sore throat. Colds usually start slowly. But the flu tends to come on quickly. And while a cold can be miserable, you usually feel much worse with the flu.Headache. Dry, persistent cough. Shortness of breath. Tiredness and weakness. Runny or stuffy nose. Sore throat. Eye pain.'}),\n",
       " Document(page_content='Each infectious disease has its own specific signs and symptoms. General signs and symptoms common to a number of infectious diseases include:Fever Diarrhea Fatigue Muscle aches Coughing', metadata={'title': 'Infectious diseases', 'id': 757, 'source': 'Each infectious disease has its own specific signs and symptoms. General signs and symptoms common to a number of infectious diseases include:Fever Diarrhea Fatigue Muscle aches Coughing'}),\n",
       " Document(page_content='Symptoms of cough headaches:Begin suddenly with and just after coughing or other types of straining Typically last a few seconds to a few minutes — some can last up to two hours Cause sharp, stabbing, splitting or \"bursting\" pain Usually affect both sides of your head and may be worse in the back of your head May be followed by a dull, aching pain for hours', metadata={'title': 'Cough headaches', 'id': 382, 'source': 'Symptoms of cough headaches:Begin suddenly with and just after coughing or other types of straining Typically last a few seconds to a few minutes — some can last up to two hours Cause sharp, stabbing, splitting or \"bursting\" pain Usually affect both sides of your head and may be worse in the back of your head May be followed by a dull, aching pain for hours'}),\n",
       " Document(page_content='Signs and symptoms of malaria may include:Fever Chills General feeling of discomfort Headache Nausea and vomiting Diarrhea Abdominal pain Muscle or joint pain Fatigue Rapid breathing Rapid heart rate Cough', metadata={'title': 'Malaria', 'id': 740, 'source': 'Signs and symptoms of malaria may include:Fever Chills General feeling of discomfort Headache Nausea and vomiting Diarrhea Abdominal pain Muscle or joint pain Fatigue Rapid breathing Rapid heart rate Cough'}),\n",
       " Document(page_content='There are three types of plague. The symptoms vary for each type.Sudden high fever and chills. Headache. Tiredness. Not feeling well in general. Weakness. Muscle aches. Rarely, skin sores.', metadata={'title': 'Plague', 'id': 51, 'source': 'There are three types of plague. The symptoms vary for each type.Sudden high fever and chills. Headache. Tiredness. Not feeling well in general. Weakness. Muscle aches. Rarely, skin sores.'}),\n",
       " Document(page_content='Valley fever is the initial form of coccidioidomycosis infection. This initial, acute illness can develop into a more serious disease, including chronic and disseminated coccidioidomycosis.Fever Cough Tiredness Shortness of breath Headache Chills Night sweats Joint aches and muscle soreness Red, spotty rash, mainly on lower legs but sometimes on the chest, arms and back', metadata={'title': 'Valley fever', 'id': 140, 'source': 'Valley fever is the initial form of coccidioidomycosis infection. This initial, acute illness can develop into a more serious disease, including chronic and disseminated coccidioidomycosis.Fever Cough Tiredness Shortness of breath Headache Chills Night sweats Joint aches and muscle soreness Red, spotty rash, mainly on lower legs but sometimes on the chest, arms and back'})]"
      ]
     },
     "execution_count": 44,
     "metadata": {},
     "output_type": "execute_result"
    }
   ],
   "source": [
    "QA_Docs"
   ]
  },
  {
   "cell_type": "markdown",
   "metadata": {},
   "source": [
    "# Vector Database Retrieval "
   ]
  },
  {
   "cell_type": "code",
   "execution_count": 45,
   "metadata": {},
   "outputs": [],
   "source": [
    "# memory = ConversationBufferMemory(memory_key=\"chat_history\", return_messages= True)\n",
    "chain = RetrievalQAWithSourcesChain.from_chain_type(llm, chain_type=\"stuff\", retriever=db.as_retriever())\n",
    "\n",
    "\n",
    "\n"
   ]
  },
  {
   "cell_type": "code",
   "execution_count": 46,
   "metadata": {},
   "outputs": [],
   "source": [
    "query = question[0]\n",
    "result = chain({\"question\": query}, return_only_outputs=True)\n",
    "scored_docs = db.similarity_search_with_relevance_scores(query, top_k=3)\n"
   ]
  },
  {
   "cell_type": "code",
   "execution_count": 47,
   "metadata": {},
   "outputs": [
    {
     "data": {
      "text/plain": [
       "{'answer': 'Based on the symptoms described (headache, fever, dry cough), it is possible that you may have the flu. However, it is important to consult with a healthcare professional for an accurate diagnosis and appropriate treatment. \\n',\n",
       " 'sources': 'Symptoms of cough headaches:Begin suddenly with and just after coughing or other types of straining Typically last a few seconds to a few minutes — some can last up to two hours Cause sharp, stabbing, splitting or \"bursting\" pain Usually affect both sides of your head and may be worse in the back of your head May be followed by a dull, aching pain for hours; At first, the flu may seem like a cold with a runny nose, sneezing and sore throat. Colds usually start slowly. But the flu tends to come on quickly. And while a cold can be miserable, you usually feel much worse with the flu.Headache. Dry, persistent cough. Shortness of breath. Tiredness and weakness. Runny or stuffy nose. Sore throat. Eye pain.'}"
      ]
     },
     "execution_count": 47,
     "metadata": {},
     "output_type": "execute_result"
    }
   ],
   "source": [
    "result"
   ]
  },
  {
   "cell_type": "code",
   "execution_count": 48,
   "metadata": {},
   "outputs": [
    {
     "data": {
      "text/plain": [
       "[(Document(page_content='Symptoms of cough headaches:Begin suddenly with and just after coughing or other types of straining Typically last a few seconds to a few minutes — some can last up to two hours Cause sharp, stabbing, splitting or \"bursting\" pain Usually affect both sides of your head and may be worse in the back of your head May be followed by a dull, aching pain for hours', metadata={'title': 'Cough headaches', 'id': 382, 'source': 'Symptoms of cough headaches:Begin suddenly with and just after coughing or other types of straining Typically last a few seconds to a few minutes — some can last up to two hours Cause sharp, stabbing, splitting or \"bursting\" pain Usually affect both sides of your head and may be worse in the back of your head May be followed by a dull, aching pain for hours'}),\n",
       "  0.45038376911259537),\n",
       " (Document(page_content='At first, the flu may seem like a cold with a runny nose, sneezing and sore throat. Colds usually start slowly. But the flu tends to come on quickly. And while a cold can be miserable, you usually feel much worse with the flu.Headache. Dry, persistent cough. Shortness of breath. Tiredness and weakness. Runny or stuffy nose. Sore throat. Eye pain.', metadata={'title': 'Influenza (flu)', 'id': 466, 'source': 'At first, the flu may seem like a cold with a runny nose, sneezing and sore throat. Colds usually start slowly. But the flu tends to come on quickly. And while a cold can be miserable, you usually feel much worse with the flu.Headache. Dry, persistent cough. Shortness of breath. Tiredness and weakness. Runny or stuffy nose. Sore throat. Eye pain.'}),\n",
       "  0.378275568932277),\n",
       " (Document(page_content='Valley fever is the initial form of coccidioidomycosis infection. This initial, acute illness can develop into a more serious disease, including chronic and disseminated coccidioidomycosis.Fever Cough Tiredness Shortness of breath Headache Chills Night sweats Joint aches and muscle soreness Red, spotty rash, mainly on lower legs but sometimes on the chest, arms and back', metadata={'title': 'Valley fever', 'id': 140, 'source': 'Valley fever is the initial form of coccidioidomycosis infection. This initial, acute illness can develop into a more serious disease, including chronic and disseminated coccidioidomycosis.Fever Cough Tiredness Shortness of breath Headache Chills Night sweats Joint aches and muscle soreness Red, spotty rash, mainly on lower legs but sometimes on the chest, arms and back'}),\n",
       "  0.3448486504971958),\n",
       " (Document(page_content='A chronic cough can occur with other signs and symptoms, which may include:A runny or stuffy nose A feeling of liquid running down the back of your throat (postnasal drip) Frequent throat clearing and sore throat Hoarseness Wheezing and shortness of breath Heartburn or a sour taste in your mouth In rare cases, coughing up blood', metadata={'title': 'Chronic cough', 'id': 406, 'source': 'A chronic cough can occur with other signs and symptoms, which may include:A runny or stuffy nose A feeling of liquid running down the back of your throat (postnasal drip) Frequent throat clearing and sore throat Hoarseness Wheezing and shortness of breath Heartburn or a sour taste in your mouth In rare cases, coughing up blood'}),\n",
       "  0.32887929389011517)]"
      ]
     },
     "execution_count": 48,
     "metadata": {},
     "output_type": "execute_result"
    }
   ],
   "source": [
    "scored_docs\n"
   ]
  },
  {
   "cell_type": "code",
   "execution_count": 44,
   "metadata": {},
   "outputs": [],
   "source": [
    "df = pd.read_csv(\"Unique Queries.csv\")"
   ]
  },
  {
   "cell_type": "code",
   "execution_count": 48,
   "metadata": {},
   "outputs": [],
   "source": [
    "unique_qs= df[\"Queries\"].to_list()"
   ]
  },
  {
   "cell_type": "code",
   "execution_count": 50,
   "metadata": {},
   "outputs": [
    {
     "data": {
      "text/plain": [
       "59"
      ]
     },
     "execution_count": 50,
     "metadata": {},
     "output_type": "execute_result"
    }
   ],
   "source": [
    "len(unique_qs)"
   ]
  },
  {
   "cell_type": "code",
   "execution_count": 59,
   "metadata": {},
   "outputs": [],
   "source": [
    "interior_dic = {}\n",
    "for i in  unique_qs:\n",
    "    interior_dic[i] = {\"alt_qs\": llm_chain.run(i).lines}"
   ]
  },
  {
   "cell_type": "code",
   "execution_count": 61,
   "metadata": {},
   "outputs": [
    {
     "data": {
      "text/plain": [
       "{'what is the normal appearance of the dengue virus?': {'alt_qs': ['1. Can you describe the typical visual characteristics of the dengue virus?',\n",
       "   '2. How does the dengue virus usually look like?',\n",
       "   '3. What are the common physical features of the dengue virus?',\n",
       "   '4. Could you provide details about the typical appearance of the dengue virus?',\n",
       "   '5. What is the usual visual presentation of the dengue virus?',\n",
       "   '',\n",
       "   'Normal appearance: dengue virus']},\n",
       " 'What are the symptoms of astigmatism?': {'alt_qs': ['1. What are the common signs and symptoms of astigmatism?',\n",
       "   '2. Can you list the typical symptoms associated with astigmatism?',\n",
       "   '3. How can I recognize the symptoms of astigmatism?',\n",
       "   '4. What are the indicators of astigmatism that I should be aware of?',\n",
       "   '5. Are there any specific signs that indicate the presence of astigmatism?',\n",
       "   '',\n",
       "   'symptoms, astigmatism']},\n",
       " 'What is the last thing you would want to do?': {'alt_qs': ['1. What are the activities you would least prefer to engage in?',\n",
       "   '2. What is the least desirable task for you to undertake?',\n",
       "   '3. What is the final action you would want to avoid?',\n",
       "   '4. What is the least preferred thing for you to do?',\n",
       "   '5. What is the ultimate task you would want to avoid at all costs?',\n",
       "   '',\n",
       "   'last, thing, want, do']},\n",
       " 'When are signs and symptoms of ocular rosacea?': {'alt_qs': ['1. What are the typical signs and symptoms of ocular rosacea?',\n",
       "   '2. Can you provide a list of signs and symptoms associated with ocular rosacea?',\n",
       "   '3. How can I recognize the signs and symptoms of ocular rosacea?',\n",
       "   '4. What are the indicators of ocular rosacea that I should be aware of?',\n",
       "   '5. Are there any specific signs and symptoms that indicate ocular rosacea?',\n",
       "   '',\n",
       "   'Significant words: signs, symptoms, ocular rosacea']},\n",
       " 'what are the symptoms of a listeria infection?': {'alt_qs': ['1. What are the signs and symptoms associated with a listeria infection?',\n",
       "   '2. Can you provide information on the symptoms commonly seen in individuals with a listeria infection?',\n",
       "   '3. What are the typical symptoms that occur in people who have contracted a listeria infection?',\n",
       "   '4. Are there any specific indicators or signs that suggest a person may have a listeria infection?',\n",
       "   '5. Could you please outline the symptoms of a listeria infection?',\n",
       "   '',\n",
       "   'symptoms, listeria infection']},\n",
       " 'What is the cause of ingrown hair?': {'alt_qs': ['1. What factors contribute to the development of ingrown hair?',\n",
       "   '2. How does ingrown hair occur and what are its causes?',\n",
       "   '3. Can you explain the reasons behind ingrown hair?',\n",
       "   '4. What are the possible triggers for ingrown hair?',\n",
       "   '5. Are there any specific conditions or habits that lead to ingrown hair?',\n",
       "   '',\n",
       "   'cause ingrown hair']},\n",
       " 'What can be seen in a child that is less than 5 years old?': {'alt_qs': ['1. What are the observable characteristics of a child who is under the age of 5?',\n",
       "   '2. How can we identify the visible traits of a child who is younger than 5 years old?',\n",
       "   '3. What are the typical signs and behaviors exhibited by children under the age of 5?',\n",
       "   \"4. What are the visible indicators of a child's development before the age of 5?\",\n",
       "   '5. How can we recognize the physical and behavioral attributes of a child under 5 years old?',\n",
       "   '',\n",
       "   'Important words: child, less, 5 years old.']},\n",
       " 'Which can happen if i dont sleep?': {'alt_qs': ['1. What are the consequences of sleep deprivation?',\n",
       "   '2. What are the potential effects of not getting enough sleep?',\n",
       "   '3. How does lack of sleep impact the body and mind?',\n",
       "   '4. What are the possible outcomes of sleep deficiency?',\n",
       "   '5. What are the risks associated with sleep deprivation?',\n",
       "   '',\n",
       "   'consequences, sleep deprivation, effects, not getting enough sleep, impact, body, mind, lack of sleep, possible outcomes, sleep deficiency, risks']},\n",
       " 'what symptoms does eye melanoma sometimes show up with?': {'alt_qs': ['1. What are the common symptoms associated with eye melanoma?',\n",
       "   '2. Can you list the typical signs and symptoms of eye melanoma?',\n",
       "   '3. What are some of the indicators that eye melanoma may present?',\n",
       "   '4. How does eye melanoma manifest itself in terms of symptoms?',\n",
       "   '5. Are there any specific signs or symptoms that can be attributed to eye melanoma?',\n",
       "   '',\n",
       "   'symptoms, eye, melanoma, sometimes, show']},\n",
       " 'What causes a loud grinding sound?': {'alt_qs': ['1. What are the possible reasons for a loud grinding noise?',\n",
       "   '2. Can you explain the factors that lead to a loud grinding sound?',\n",
       "   '3. What are the common causes of a loud grinding sound?',\n",
       "   '4. What are the sources of a loud grinding noise?',\n",
       "   '5. What factors contribute to the occurrence of a loud grinding sound?',\n",
       "   '',\n",
       "   'loud, grinding, sound, causes']},\n",
       " 'What causes low sperm count in men?': {'alt_qs': ['1. What are the factors that contribute to a decrease in sperm count among men?',\n",
       "   '2. What are the possible reasons for a decline in sperm count in males?',\n",
       "   '3. What are the potential causes of reduced sperm count in men?',\n",
       "   '4. What factors can lead to a low sperm count in males?',\n",
       "   '5. What are the main causes of decreased sperm count in men?',\n",
       "   '',\n",
       "   'low, sperm, count, men, causes']},\n",
       " 'What are the symptoms of a swelling ingrown toenail?': {'alt_qs': ['1. What are the signs and symptoms of an ingrown toenail that is swollen?',\n",
       "   '2. Can you describe the symptoms of a swollen ingrown toenail?',\n",
       "   '3. How can I recognize if my ingrown toenail is swollen? What are the symptoms?',\n",
       "   '4. Are there any specific indicators of a swelling ingrown toenail?',\n",
       "   '5. What are the typical symptoms of an ingrown toenail that has become swollen?',\n",
       "   '',\n",
       "   'Swelling, ingrown toenail, symptoms']},\n",
       " 'What are some symptoms of schizophrenia?': {'alt_qs': ['1. What are the common signs and symptoms associated with schizophrenia?',\n",
       "   '2. Can you list a few indicators of schizophrenia?',\n",
       "   '3. What are the typical manifestations of schizophrenia?',\n",
       "   '4. Are there any recognizable symptoms of schizophrenia?',\n",
       "   '5. Could you describe the usual signs of schizophrenia?',\n",
       "   '',\n",
       "   'Symptoms, schizophrenia']},\n",
       " 'What are the most common symptoms of a rectovaginal fistula?': {'alt_qs': ['1. What are the typical signs and symptoms of a rectovaginal fistula?',\n",
       "   '2. Can you list the primary indicators of a rectovaginal fistula?',\n",
       "   '3. What are the usual symptoms that indicate a rectovaginal fistula?',\n",
       "   '4. Are there any specific signs or symptoms that commonly occur with a rectovaginal fistula?',\n",
       "   '5. What are the typical manifestations of a rectovaginal fistula?',\n",
       "   '',\n",
       "   'common symptoms rectovaginal fistula']},\n",
       " 'Where can you get hives?': {'alt_qs': ['1. What are the possible locations to find hives?',\n",
       "   '2. Which places offer hives?',\n",
       "   '3. Where can hives be obtained?',\n",
       "   '4. What are the available sources for hives?',\n",
       "   '5. In which locations can one acquire hives?',\n",
       "   '',\n",
       "   'hives, get']},\n",
       " 'What are the symptoms of a folliculitis?': {'alt_qs': ['1. What are the common signs and symptoms of folliculitis?',\n",
       "   '2. Can you list the typical symptoms associated with folliculitis?',\n",
       "   '3. How can I recognize the symptoms of folliculitis?',\n",
       "   '4. What are the indicators of folliculitis that I should be aware of?',\n",
       "   '5. Are there any specific symptoms that can help identify folliculitis?',\n",
       "   '',\n",
       "   'symptoms, folliculitis']},\n",
       " 'What is the main symptom of cholestasis of pregnancy?': {'alt_qs': ['1. What are the primary indicators of cholestasis during pregnancy?',\n",
       "   '2. Can you describe the key symptom of pregnancy-related cholestasis?',\n",
       "   '3. What is the primary manifestation of cholestasis in pregnant women?',\n",
       "   '4. What is the main sign that indicates cholestasis of pregnancy?',\n",
       "   '5. How can cholestasis of pregnancy be identified based on its main symptom?',\n",
       "   '',\n",
       "   'Main symptom: cholestasis pregnancy']},\n",
       " 'Which disease does not cause slow motor development?': {'alt_qs': ['1. What are some diseases that do not result in slow motor development?',\n",
       "   '2. Can you provide a list of diseases that do not lead to slow motor development?',\n",
       "   '3. Are there any diseases that do not cause slow motor development?',\n",
       "   '4. Which specific disease does not have an impact on motor development?',\n",
       "   '5. Is there a disease that does not result in slow motor development?',\n",
       "   '',\n",
       "   'disease, cause, slow, motor, development']},\n",
       " 'What is the reason for squinting when viewing a mirror?': {'alt_qs': ['1. Why do people squint when looking at themselves in a mirror?',\n",
       "   '2. What causes individuals to squint while viewing their reflection in a mirror?',\n",
       "   '3. Is there a specific explanation for why people squint when they look into a mirror?',\n",
       "   '4. What factors contribute to the act of squinting when observing oneself in a mirror?',\n",
       "   '5. Can you explain why squinting is common when viewing a mirror?',\n",
       "   '',\n",
       "   'reason squinting viewing mirror']},\n",
       " 'What are some common symptoms of dysphagia?': {'alt_qs': ['1. What are the typical signs and symptoms associated with dysphagia?',\n",
       "   '2. Can you list some frequently observed symptoms of dysphagia?',\n",
       "   '3. What are the usual indications that someone is experiencing dysphagia?',\n",
       "   '4. Could you provide a list of common symptoms related to dysphagia?',\n",
       "   '5. What are some telltale signs of dysphagia?',\n",
       "   '',\n",
       "   'common symptoms dysphagia']},\n",
       " 'Which two are the main symptoms of albinism?': {'alt_qs': ['1. What are the primary symptoms associated with albinism?',\n",
       "   '2. Can you identify the two main symptoms commonly observed in individuals with albinism?',\n",
       "   '3. What are the key signs of albinism, specifically the two main symptoms?',\n",
       "   '4. Could you please list the primary symptoms that characterize albinism?',\n",
       "   '5. What are the two main symptoms typically seen in individuals with albinism?',\n",
       "   '',\n",
       "   'main symptoms, albinism']},\n",
       " 'What are the symptoms and signs of klinefelter syndrome?': {'alt_qs': ['1. What are the common symptoms and signs associated with Klinefelter syndrome?',\n",
       "   '2. Can you provide a list of symptoms and signs that are typically observed in individuals with Klinefelter syndrome?',\n",
       "   '3. What are the clinical manifestations and indicators of Klinefelter syndrome?',\n",
       "   '4. Are there any specific symptoms or signs that can help identify Klinefelter syndrome?',\n",
       "   '5. Could you describe the typical symptoms and signs seen in individuals with Klinefelter syndrome?',\n",
       "   '',\n",
       "   'Symptoms, signs, Klinefelter syndrome.']},\n",
       " 'Which of the four main types of diabetic neuropathy has the most common symptom?': {'alt_qs': ['1. What is the most common symptom of diabetic neuropathy among the four main types?',\n",
       "   '2. Among the four main types of diabetic neuropathy, which one is characterized by the most common symptom?',\n",
       "   '3. Which type of diabetic neuropathy exhibits the most common symptom among the four main types?',\n",
       "   '4. What is the predominant symptom in the most common type of diabetic neuropathy among the four main types?',\n",
       "   '5. Among the four main types of diabetic neuropathy, which one has the most common symptom?',\n",
       "   '',\n",
       "   'Most important words: four main types diabetic neuropathy common symptom']},\n",
       " 'What are some symptoms that can be indicative of lead poisoning?': {'alt_qs': ['1. What are the common signs and symptoms associated with lead poisoning?',\n",
       "   '2. Can you provide a list of symptoms that may suggest lead poisoning?',\n",
       "   '3. What are the typical indicators of lead poisoning in individuals?',\n",
       "   '4. Are there any specific signs or symptoms that might indicate lead poisoning?',\n",
       "   '5. How can one recognize the symptoms of lead poisoning?',\n",
       "   '',\n",
       "   'Important words: symptoms, indicative, lead poisoning.']},\n",
       " 'How can ovarian cysts cause pain?': {'alt_qs': ['1. What are the mechanisms through which ovarian cysts can lead to pain?',\n",
       "   '2. In what ways do ovarian cysts contribute to the experience of pain?',\n",
       "   '3. What is the relationship between ovarian cysts and pain?',\n",
       "   '4. How do ovarian cysts result in the sensation of pain?',\n",
       "   '5. Can you explain how pain is caused by ovarian cysts?',\n",
       "   '',\n",
       "   'Ovarian cysts pain cause']},\n",
       " 'What does the second sign of intussusception usually involve?': {'alt_qs': ['1. What is typically involved in the second sign of intussusception?',\n",
       "   '2. Can you explain the usual involvement of the second sign in intussusception?',\n",
       "   '3. In the case of intussusception, what is commonly associated with the second sign?',\n",
       "   '4. What are the typical characteristics of the second sign in intussusception?',\n",
       "   '5. How does the second sign of intussusception typically manifest?',\n",
       "   '',\n",
       "   'Second sign, intussusception, involve']},\n",
       " 'What are the symptoms of facial paralysis?': {'alt_qs': ['1. What are the signs and symptoms associated with facial paralysis?',\n",
       "   '2. Can you provide a list of symptoms commonly seen in facial paralysis?',\n",
       "   '3. What are the indications of facial paralysis?',\n",
       "   '4. What are the typical manifestations of facial paralysis?',\n",
       "   '5. Could you describe the symptoms related to facial paralysis?',\n",
       "   '',\n",
       "   'facial paralysis symptoms']},\n",
       " 'What is the first symptom of a popliteal artery aneurysm?': {'alt_qs': ['1. What are the initial signs of a popliteal artery aneurysm?',\n",
       "   '2. How can one identify the primary symptom of a popliteal artery aneurysm?',\n",
       "   '3. What are the early indicators of a popliteal artery aneurysm?',\n",
       "   '4. What is the initial manifestation of a popliteal artery aneurysm?',\n",
       "   '5. How does a popliteal artery aneurysm typically present itself?',\n",
       "   '',\n",
       "   'First symptom, popliteal artery aneurysm.']},\n",
       " 'What is one of the symptoms of Type 2 diabetes in children?': {'alt_qs': ['1. What are some common symptoms of Type 2 diabetes in children?',\n",
       "   '2. Can you list a few symptoms that children with Type 2 diabetes may experience?',\n",
       "   '3. What are the signs of Type 2 diabetes in children?',\n",
       "   '4. Are there any specific symptoms that indicate Type 2 diabetes in children?',\n",
       "   '5. How can one identify Type 2 diabetes in children based on their symptoms?',\n",
       "   '',\n",
       "   'symptoms, Type 2 diabetes, children']},\n",
       " 'How many days did this happen to me?': {'alt_qs': ['1. What is the duration of this incident that occurred to me?',\n",
       "   '2. How long did this event last for me?',\n",
       "   '3. What is the time frame of this occurrence that happened to me?',\n",
       "   '4. How many days did I experience this situation?',\n",
       "   '5. What was the duration of this happening in my life?',\n",
       "   '',\n",
       "   'How many days happen?']},\n",
       " 'How many colors are there in the eye?': {'alt_qs': ['1. What is the number of colors present in the human eye?',\n",
       "   '2. Can you tell me the total count of colors in the eye?',\n",
       "   '3. How many different colors can be found in the eye?',\n",
       "   '4. What is the quantity of colors that exist in the eye?',\n",
       "   '5. How many colors are present in the eye?',\n",
       "   '',\n",
       "   'Colors, eye']},\n",
       " 'What are the causes of pain in the lower back?': {'alt_qs': ['1. What factors contribute to lower back pain?',\n",
       "   '2. What are the possible reasons for experiencing pain in the lower back?',\n",
       "   '3. What are some common causes of lower back pain?',\n",
       "   '4. What leads to the occurrence of pain in the lower back?',\n",
       "   '5. What are the underlying factors that can result in lower back pain?',\n",
       "   '',\n",
       "   'causes pain lower back']},\n",
       " 'what are the symptoms of a bunion?': {'alt_qs': ['1. What are the common signs and symptoms of a bunion?',\n",
       "   '2. Can you list the typical indicators of a bunion?',\n",
       "   '3. What are the usual manifestations of a bunion?',\n",
       "   '4. What are the telltale signs of a bunion?',\n",
       "   '5. What are the recognizable symptoms of a bunion?',\n",
       "   '',\n",
       "   'Symptoms, bunion']},\n",
       " 'When can hypogonadism develop in men?': {'alt_qs': ['1. At what age do men typically develop hypogonadism?',\n",
       "   '2. What are the usual stages of hypogonadism development in men?',\n",
       "   '3. How does hypogonadism manifest and progress in men?',\n",
       "   '4. Are there any specific factors that contribute to the development of hypogonadism in men?',\n",
       "   '5. Can you explain the timeline of hypogonadism development in men?',\n",
       "   '',\n",
       "   'When, hypogonadism, develop, men']},\n",
       " 'What is the term for difficulty in swallowing?': {'alt_qs': ['1. What is the medical term for difficulty in swallowing?',\n",
       "   '2. Can you provide me with the term used to describe difficulty in swallowing?',\n",
       "   '3. How is difficulty in swallowing medically referred to?',\n",
       "   '4. What is the official term for the condition of having difficulty in swallowing?',\n",
       "   '5. Is there a specific term to describe difficulty in swallowing?',\n",
       "   '',\n",
       "   'difficulty, swallowing, term']},\n",
       " 'What are some signs and symptoms of encopresis?': {'alt_qs': ['1. What are the common indicators and manifestations of encopresis?',\n",
       "   '2. Can you list some of the signs and symptoms associated with encopresis?',\n",
       "   '3. How can one recognize the signs and symptoms of encopresis?',\n",
       "   '4. What are the typical signs and symptoms that may suggest encopresis?',\n",
       "   '5. Are there any specific signs and symptoms that can help identify encopresis?',\n",
       "   '',\n",
       "   'Significant words: signs, symptoms, encopresis']},\n",
       " 'What is the condition known as that causes nausea?': {'alt_qs': ['1. What is the medical term for the condition that leads to nausea?',\n",
       "   '2. Can you explain the condition that results in nausea?',\n",
       "   '3. What is the name of the condition that can cause nausea?',\n",
       "   '4. Could you provide information about the condition that induces nausea?',\n",
       "   '5. Are there any specific conditions that are associated with nausea?',\n",
       "   '',\n",
       "   'condition, known, causes, nausea']},\n",
       " 'what are some of the signs and symptoms of bruxism?': {'alt_qs': ['1. What are the common signs and symptoms associated with bruxism?',\n",
       "   '2. Can you list a few indicators and manifestations of bruxism?',\n",
       "   '3. What are the typical warning signs and symptoms of bruxism?',\n",
       "   '4. Are there any recognizable signs or symptoms that can help identify bruxism?',\n",
       "   '5. How can one recognize the signs and symptoms of bruxism?',\n",
       "   '',\n",
       "   'Significant words: signs, symptoms, bruxism']},\n",
       " 'what are the symptoms of cold urticaria?': {'alt_qs': ['1. What are the common signs and symptoms of cold urticaria?',\n",
       "   '2. Can you provide a list of symptoms associated with cold urticaria?',\n",
       "   '3. What are the typical indicators of cold urticaria?',\n",
       "   '4. Are there any specific signs or symptoms that indicate cold urticaria?',\n",
       "   '5. How can I recognize the symptoms of cold urticaria?',\n",
       "   '',\n",
       "   'symptoms, cold urticaria']},\n",
       " 'What part of the body is a growth plate fracture?': {'alt_qs': ['1. Which body part is affected by a growth plate fracture?',\n",
       "   '2. In which area of the body does a growth plate fracture occur?',\n",
       "   '3. What specific body part experiences a growth plate fracture?',\n",
       "   '4. What is the location of a growth plate fracture in the body?',\n",
       "   '5. Which part of the body sustains a fracture in the growth plate?',\n",
       "   '',\n",
       "   'growth plate fracture, body part']},\n",
       " 'What are the symptoms of a deviated septum?': {'alt_qs': ['1. What are the common signs and symptoms of a deviated septum?',\n",
       "   '2. Can you list the typical symptoms associated with a deviated septum?',\n",
       "   '3. How can I recognize if I have a deviated septum based on the symptoms?',\n",
       "   '4. Are there any specific indicators that suggest a deviated septum?',\n",
       "   '5. What are the telltale signs of a deviated septum?',\n",
       "   '',\n",
       "   'Symptoms, deviated septum']},\n",
       " 'What are the symptoms of a rash on the hands?': {'alt_qs': ['1. What are the common signs and symptoms of a rash occurring on the hands?',\n",
       "   '2. Can you provide a list of symptoms typically associated with a rash on the hands?',\n",
       "   '3. How can I identify the symptoms of a hand rash?',\n",
       "   '4. What are the usual indications of a rash appearing on the hands?',\n",
       "   '5. Are there any specific signs or symptoms that can help identify a rash on the hands?',\n",
       "   '',\n",
       "   'rash, hands, symptoms']},\n",
       " 'what do we need to know before attelectasis is diagnosed?': {'alt_qs': ['1. What are the essential factors to consider when diagnosing attelectasis?',\n",
       "   '2. What information should we gather prior to making a diagnosis of attelectasis?',\n",
       "   '3. What are the key points to be aware of in the diagnosis of attelectasis?',\n",
       "   '4. What knowledge is necessary for accurately identifying attelectasis?',\n",
       "   '5. What should be taken into account before reaching a diagnosis of attelectasis?',\n",
       "   '',\n",
       "   'attelectasis, diagnosed, need, know']},\n",
       " 'How do you know if you have a popliteal artery aneurysm?': {'alt_qs': ['1. What are the symptoms of a popliteal artery aneurysm?',\n",
       "   '2. What are the signs of having a popliteal artery aneurysm?',\n",
       "   '3. How can one determine if they have a popliteal artery aneurysm?',\n",
       "   '4. Are there any specific indicators of a popliteal artery aneurysm?',\n",
       "   '5. What are the ways to diagnose a popliteal artery aneurysm?',\n",
       "   '',\n",
       "   'popliteal artery aneurysm important words: popliteal artery aneurysm, know']},\n",
       " 'what are the symptoms of pediatric sleep apnea?': {'alt_qs': ['1. What are the common signs and symptoms of sleep apnea in children?',\n",
       "   '2. Can you list the indicators of pediatric sleep apnea?',\n",
       "   '3. What are the typical manifestations of sleep apnea in pediatric patients?',\n",
       "   '4. What are the recognizable symptoms of sleep apnea in children?',\n",
       "   '5. How can pediatric sleep apnea be identified based on its symptoms?',\n",
       "   '',\n",
       "   'symptoms, pediatric, sleep apnea']},\n",
       " 'what is the common sign of spinal stenosis': {'alt_qs': ['1. What are the typical symptoms of spinal stenosis?',\n",
       "   '2. Can you explain the usual indicators of spinal stenosis?',\n",
       "   '3. How can one recognize the common signs of spinal stenosis?',\n",
       "   '4. What are the usual manifestations of spinal stenosis?',\n",
       "   '5. Can you describe the typical indications of spinal stenosis?',\n",
       "   '',\n",
       "   'Common sign spinal stenosis: common, sign, spinal, stenosis']},\n",
       " 'who has a broken nose?': {'alt_qs': ['1. Can you provide information about individuals with a fractured nose?',\n",
       "   '2. Are there any people who have suffered from a nose injury?',\n",
       "   '3. Who in the database has a nose that is broken?',\n",
       "   '4. Can you retrieve data on individuals with a nose fracture?',\n",
       "   '5. Is there any information available on people with a broken nose?',\n",
       "   '',\n",
       "   'broken nose']},\n",
       " 'Which syndrome is known as triple X syndrome?': {'alt_qs': ['1. What is the name of the syndrome that is referred to as triple X syndrome?',\n",
       "   '2. Can you tell me the syndrome that goes by the name triple X syndrome?',\n",
       "   '3. Which syndrome is commonly known as triple X syndrome?',\n",
       "   '4. What is the official term for the syndrome known as triple X syndrome?',\n",
       "   '5. Could you provide me with the name of the syndrome that is also called triple X syndrome?',\n",
       "   '',\n",
       "   'triple X syndrome']},\n",
       " 'What are the symptoms of chronic hives?': {'alt_qs': ['1. What are the common signs and symptoms of chronic hives?',\n",
       "   '2. Can you list the typical symptoms associated with chronic hives?',\n",
       "   '3. What are the indicators of chronic hives that one should look out for?',\n",
       "   '4. Are there any specific manifestations that are commonly observed in chronic hives?',\n",
       "   '5. What are the usual symptoms of chronic hives that people experience?',\n",
       "   '',\n",
       "   'Chronic hives: symptoms, chronic, hives']},\n",
       " 'What is the typical time span for the development of symptoms of epiglottitis?': {'alt_qs': ['1. How long does it usually take for symptoms of epiglottitis to appear?',\n",
       "   '2. What is the average duration for the onset of symptoms in epiglottitis?',\n",
       "   '3. Can you provide an estimate of the time frame in which symptoms of epiglottitis typically develop?',\n",
       "   '4. What is the usual time span for the manifestation of symptoms in epiglottitis?',\n",
       "   '5. How much time does it generally take for symptoms of epiglottitis to show up?',\n",
       "   '',\n",
       "   'Important words: typical time span development symptoms epiglottitis.']},\n",
       " 'What are the symptoms of long term exposure to asbestos?': {'alt_qs': ['1. What are the long-term health effects of being exposed to asbestos?',\n",
       "   '2. Can you explain the symptoms that may arise from prolonged exposure to asbestos?',\n",
       "   '3. What kind of health problems can occur as a result of long-term asbestos exposure?',\n",
       "   '4. Are there any specific signs or symptoms associated with extended asbestos exposure?',\n",
       "   \"5. How does long-term exposure to asbestos impact a person's health?\",\n",
       "   '',\n",
       "   'symptoms, long term, exposure, asbestos']},\n",
       " 'What can increase the pain?': {'alt_qs': ['1. What factors can exacerbate the pain?',\n",
       "   '2. Are there any specific triggers that can intensify the pain?',\n",
       "   '3. What are the potential causes of increased pain?',\n",
       "   '4. Can certain activities or conditions worsen the pain?',\n",
       "   '5. Are there any known factors that can amplify the pain sensation?',\n",
       "   '',\n",
       "   'increase, pain']},\n",
       " 'Who does the word \"abuser\" refer to?': {'alt_qs': ['1. What is the meaning of the term \"abuser\"?',\n",
       "   '2. Can you explain who is typically referred to as an \"abuser\"?',\n",
       "   '3. In what context is the word \"abuser\" used and who does it refer to?',\n",
       "   '4. Who falls under the category of \"abuser\"?',\n",
       "   '5. Could you provide a definition of the term \"abuser\"?',\n",
       "   '',\n",
       "   'abuser, refer']},\n",
       " 'How can you tell if you are albinic?': {'alt_qs': ['1. What are the signs or symptoms of albinism?',\n",
       "   '2. What are the indicators of being albinic?',\n",
       "   '3. How do you determine if someone has albinism?',\n",
       "   '4. What are the characteristics of individuals with albinism?',\n",
       "   '5. What are the ways to identify if a person is albinic?',\n",
       "   '',\n",
       "   'albinic, tell, you, if, are']},\n",
       " 'What are some symptoms of pediatric sleep apnea?': {'alt_qs': ['1. What are the common signs and symptoms of sleep apnea in children?',\n",
       "   '2. Can you provide a list of symptoms that indicate pediatric sleep apnea?',\n",
       "   '3. What are the typical indicators of sleep apnea in pediatric patients?',\n",
       "   '4. How can I recognize the symptoms of sleep apnea in children?',\n",
       "   '5. What are the telltale signs of pediatric sleep apnea?',\n",
       "   '',\n",
       "   'symptoms, pediatric, sleep apnea']},\n",
       " 'What is the first symptom that should be looked for in infants with reflux?': {'alt_qs': ['1. What are the initial signs to watch out for in infants with reflux?',\n",
       "   '2. Which symptom is typically the earliest indicator in infants with reflux?',\n",
       "   '3. In infants with reflux, what is the primary symptom that should be monitored initially?',\n",
       "   '4. What is the first indication of reflux in infants that should be observed?',\n",
       "   '5. What is the earliest symptom to be aware of in infants with reflux?',\n",
       "   '',\n",
       "   'first, symptom, looked, infants, reflux']},\n",
       " 'what are signs and symptoms of encopresis?': {'alt_qs': ['1. What are the common signs and symptoms associated with encopresis?',\n",
       "   '2. Can you provide a list of signs and symptoms that indicate encopresis?',\n",
       "   '3. How can I recognize the signs and symptoms of encopresis?',\n",
       "   '4. Are there any specific indicators or manifestations of encopresis that I should be aware of?',\n",
       "   '5. What are the typical signs and symptoms of encopresis that I should look out for?',\n",
       "   '',\n",
       "   'Significant words: signs, symptoms, encopresis.']},\n",
       " 'What is the most common sign of hydrocele?': {'alt_qs': ['1. What are the typical symptoms of hydrocele?',\n",
       "   '2. How can hydrocele be identified?',\n",
       "   '3. What are the usual indications of hydrocele?',\n",
       "   '4. What are the primary signs of hydrocele?',\n",
       "   '5. What are the common manifestations of hydrocele?',\n",
       "   '',\n",
       "   'most, common, sign, hydrocele']},\n",
       " 'what can cause blood in your urine?': {'alt_qs': ['1. What are the possible reasons for the presence of blood in urine?',\n",
       "   '2. What factors can lead to the appearance of blood in your urine?',\n",
       "   '3. What are the potential causes of hematuria (blood in urine)?',\n",
       "   '4. What conditions or situations can result in blood being present in your urine?',\n",
       "   '5. What are some of the common causes of blood in urine?',\n",
       "   '',\n",
       "   'blood, urine, cause']}}"
      ]
     },
     "execution_count": 61,
     "metadata": {},
     "output_type": "execute_result"
    }
   ],
   "source": [
    "interior_dic"
   ]
  },
  {
   "cell_type": "code",
   "execution_count": 62,
   "metadata": {},
   "outputs": [],
   "source": [
    "# for key in interior_dic:\n",
    "#     interior_dic[key][\"alt_qs\"].remove(\"\")"
   ]
  },
  {
   "cell_type": "code",
   "execution_count": 63,
   "metadata": {},
   "outputs": [],
   "source": [
    "df1 = pd.read_csv(\"Taimoor data scored.csv\")\n",
    "df2 = pd.read_csv(\"Haashim data scored.csv\")\n",
    "df3 = pd.read_csv(\"Josh data scored.csv\")\n",
    "total_df = pd.concat([df1, df2, df3], ignore_index=True)"
   ]
  },
  {
   "cell_type": "code",
   "execution_count": 64,
   "metadata": {},
   "outputs": [
    {
     "data": {
      "text/html": [
       "<div>\n",
       "<style scoped>\n",
       "    .dataframe tbody tr th:only-of-type {\n",
       "        vertical-align: middle;\n",
       "    }\n",
       "\n",
       "    .dataframe tbody tr th {\n",
       "        vertical-align: top;\n",
       "    }\n",
       "\n",
       "    .dataframe thead th {\n",
       "        text-align: right;\n",
       "    }\n",
       "</style>\n",
       "<table border=\"1\" class=\"dataframe\">\n",
       "  <thead>\n",
       "    <tr style=\"text-align: right;\">\n",
       "      <th></th>\n",
       "      <th>Unnamed: 0</th>\n",
       "      <th>Query</th>\n",
       "      <th>DocID</th>\n",
       "      <th>Text</th>\n",
       "      <th>Score</th>\n",
       "    </tr>\n",
       "  </thead>\n",
       "  <tbody>\n",
       "    <tr>\n",
       "      <th>0</th>\n",
       "      <td>0</td>\n",
       "      <td>What part of the body is a growth plate fracture?</td>\n",
       "      <td>328</td>\n",
       "      <td>Most people have no symptoms associated with f...</td>\n",
       "      <td>1</td>\n",
       "    </tr>\n",
       "    <tr>\n",
       "      <th>1</th>\n",
       "      <td>1</td>\n",
       "      <td>What part of the body is a growth plate fracture?</td>\n",
       "      <td>276</td>\n",
       "      <td>Signs and symptoms of testicular torsion inclu...</td>\n",
       "      <td>1</td>\n",
       "    </tr>\n",
       "    <tr>\n",
       "      <th>2</th>\n",
       "      <td>2</td>\n",
       "      <td>What part of the body is a growth plate fracture?</td>\n",
       "      <td>433</td>\n",
       "      <td>Heart palpitations can feel like the heart is:...</td>\n",
       "      <td>1</td>\n",
       "    </tr>\n",
       "    <tr>\n",
       "      <th>3</th>\n",
       "      <td>3</td>\n",
       "      <td>What part of the body is a growth plate fracture?</td>\n",
       "      <td>119</td>\n",
       "      <td>Damage to the protective myelin covering the n...</td>\n",
       "      <td>1</td>\n",
       "    </tr>\n",
       "    <tr>\n",
       "      <th>4</th>\n",
       "      <td>4</td>\n",
       "      <td>What part of the body is a growth plate fracture?</td>\n",
       "      <td>1008</td>\n",
       "      <td>You might not have signs or symptoms if your h...</td>\n",
       "      <td>1</td>\n",
       "    </tr>\n",
       "  </tbody>\n",
       "</table>\n",
       "</div>"
      ],
      "text/plain": [
       "   Unnamed: 0                                              Query  DocID  \\\n",
       "0           0  What part of the body is a growth plate fracture?    328   \n",
       "1           1  What part of the body is a growth plate fracture?    276   \n",
       "2           2  What part of the body is a growth plate fracture?    433   \n",
       "3           3  What part of the body is a growth plate fracture?    119   \n",
       "4           4  What part of the body is a growth plate fracture?   1008   \n",
       "\n",
       "                                                Text  Score  \n",
       "0  Most people have no symptoms associated with f...      1  \n",
       "1  Signs and symptoms of testicular torsion inclu...      1  \n",
       "2  Heart palpitations can feel like the heart is:...      1  \n",
       "3  Damage to the protective myelin covering the n...      1  \n",
       "4  You might not have signs or symptoms if your h...      1  "
      ]
     },
     "execution_count": 64,
     "metadata": {},
     "output_type": "execute_result"
    }
   ],
   "source": [
    "total_df.head()"
   ]
  },
  {
   "cell_type": "code",
   "execution_count": 69,
   "metadata": {},
   "outputs": [],
   "source": [
    "for i in unique_qs:\n",
    "    interior_dic[i][\"scored_docs\"] = list(zip(total_df[total_df[\"Query\"] == i][\"DocID\"].to_list() ,total_df[total_df[\"Query\"] == i][\"Score\"].to_list()))"
   ]
  },
  {
   "cell_type": "code",
   "execution_count": 71,
   "metadata": {},
   "outputs": [
    {
     "data": {
      "text/plain": [
       "{'alt_qs': ['1. Can you describe the typical visual characteristics of the dengue virus?',\n",
       "  '2. How does the dengue virus usually look like?',\n",
       "  '3. What are the common physical features of the dengue virus?',\n",
       "  '4. Could you provide details about the typical appearance of the dengue virus?',\n",
       "  '5. What is the usual visual presentation of the dengue virus?',\n",
       "  '',\n",
       "  'Normal appearance: dengue virus'],\n",
       " 'scored_docs': [(886, 1),\n",
       "  (191, 1),\n",
       "  (1019, 1),\n",
       "  (335, 1),\n",
       "  (1057, 1),\n",
       "  (95, 1),\n",
       "  (79, 1),\n",
       "  (1066, 1),\n",
       "  (782, 1),\n",
       "  (691, 1),\n",
       "  (618, 1),\n",
       "  (1004, 1),\n",
       "  (630, 1),\n",
       "  (97, 1),\n",
       "  (577, 1),\n",
       "  (38, 1),\n",
       "  (355, 1),\n",
       "  (859, 1),\n",
       "  (704, 1),\n",
       "  (581, 1),\n",
       "  (521, 1),\n",
       "  (340, 1),\n",
       "  (144, 1),\n",
       "  (806, 1),\n",
       "  (74, 1),\n",
       "  (477, 1),\n",
       "  (324, 1),\n",
       "  (569, 1),\n",
       "  (694, 1),\n",
       "  (575, 1),\n",
       "  (113, 1),\n",
       "  (439, 1),\n",
       "  (104, 1),\n",
       "  (590, 1),\n",
       "  (857, 1),\n",
       "  (285, 1),\n",
       "  (709, 1),\n",
       "  (253, 1),\n",
       "  (378, 1),\n",
       "  (606, 1),\n",
       "  (911, 1),\n",
       "  (500, 1),\n",
       "  (890, 1),\n",
       "  (848, 1),\n",
       "  (271, 1),\n",
       "  (456, 1),\n",
       "  (326, 1),\n",
       "  (924, 1),\n",
       "  (123, 1),\n",
       "  (206, 1)]}"
      ]
     },
     "execution_count": 71,
     "metadata": {},
     "output_type": "execute_result"
    }
   ],
   "source": [
    "interior_dic[\"what is the normal appearance of the dengue virus?\"]"
   ]
  },
  {
   "cell_type": "code",
   "execution_count": 72,
   "metadata": {},
   "outputs": [],
   "source": [
    "with open(\"interior_dic.json\", \"w\") as outfile:\n",
    "    json.dump(interior_dic, outfile)"
   ]
  }
 ],
 "metadata": {
  "kernelspec": {
   "display_name": "Python 3",
   "language": "python",
   "name": "python3"
  },
  "language_info": {
   "codemirror_mode": {
    "name": "ipython",
    "version": 3
   },
   "file_extension": ".py",
   "mimetype": "text/x-python",
   "name": "python",
   "nbconvert_exporter": "python",
   "pygments_lexer": "ipython3",
   "version": "3.11.5"
  }
 },
 "nbformat": 4,
 "nbformat_minor": 2
}
