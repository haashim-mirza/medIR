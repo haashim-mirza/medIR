{
 "cells": [
  {
   "cell_type": "code",
   "execution_count": 1,
   "metadata": {},
   "outputs": [],
   "source": [
    "import numpy as np\n",
    "import pandas as pd\n",
    "import matplotlib.pyplot as plt\n",
    "import seaborn as sns\n",
    "from langchain.embeddings import OpenAIEmbeddings, HuggingFaceEmbeddings, HuggingFaceInferenceAPIEmbeddings\n",
    "from langchain.vectorstores import FAISS\n",
    "from langchain.agents.agent_toolkits.conversational_retrieval.tool import create_retriever_tool\n",
    "from langchain.docstore.document import Document\n",
    "from langchain.text_splitter import CharacterTextSplitter\n",
    "import json\n",
    "\n"
   ]
  },
  {
   "cell_type": "code",
   "execution_count": 2,
   "metadata": {},
   "outputs": [],
   "source": [
    "docs = []\n",
    "with open(\"final_data.json\") as f:\n",
    "    for line in f:\n",
    "        row = json.loads(line)\n",
    "        doc = Document(\n",
    "            page_content = row[\"text\"],\n",
    "            metadata={\"title\": row[\"title\"], \"id\": row[\"docid\"], \"source\": row[\"text\"]},\n",
    "        )\n",
    "        docs.append(doc)\n"
   ]
  },
  {
   "cell_type": "code",
   "execution_count": 3,
   "metadata": {},
   "outputs": [
    {
     "data": {
      "text/plain": [
       "Document(page_content=\"There are four main types of diabetic neuropathy. You can have one type or more than one type of neuropathy.Numbness or reduced ability to feel pain or temperature changes Tingling or burning feeling Sharp pains or cramps Muscle weakness Extreme sensitivity to touch — for some people, even a bedsheet's weight can be painful Serious foot problems, such as ulcers, infections, and bone and joint damage\", metadata={'title': 'Diabetic neuropathy', 'id': 1, 'source': \"There are four main types of diabetic neuropathy. You can have one type or more than one type of neuropathy.Numbness or reduced ability to feel pain or temperature changes Tingling or burning feeling Sharp pains or cramps Muscle weakness Extreme sensitivity to touch — for some people, even a bedsheet's weight can be painful Serious foot problems, such as ulcers, infections, and bone and joint damage\"})"
      ]
     },
     "execution_count": 3,
     "metadata": {},
     "output_type": "execute_result"
    }
   ],
   "source": [
    "docs[0]\n"
   ]
  },
  {
   "cell_type": "code",
   "execution_count": 4,
   "metadata": {},
   "outputs": [],
   "source": [
    "text_splitter = CharacterTextSplitter(chunk_size=1000, chunk_overlap=0)\n",
    "docs = text_splitter.split_documents(docs)\n"
   ]
  },
  {
   "cell_type": "code",
   "execution_count": 5,
   "metadata": {},
   "outputs": [
    {
     "data": {
      "text/plain": [
       "Document(page_content=\"There are four main types of diabetic neuropathy. You can have one type or more than one type of neuropathy.Numbness or reduced ability to feel pain or temperature changes Tingling or burning feeling Sharp pains or cramps Muscle weakness Extreme sensitivity to touch — for some people, even a bedsheet's weight can be painful Serious foot problems, such as ulcers, infections, and bone and joint damage\", metadata={'title': 'Diabetic neuropathy', 'id': 1, 'source': \"There are four main types of diabetic neuropathy. You can have one type or more than one type of neuropathy.Numbness or reduced ability to feel pain or temperature changes Tingling or burning feeling Sharp pains or cramps Muscle weakness Extreme sensitivity to touch — for some people, even a bedsheet's weight can be painful Serious foot problems, such as ulcers, infections, and bone and joint damage\"})"
      ]
     },
     "execution_count": 5,
     "metadata": {},
     "output_type": "execute_result"
    }
   ],
   "source": [
    "docs[0]\n"
   ]
  },
  {
   "cell_type": "code",
   "execution_count": 6,
   "metadata": {},
   "outputs": [],
   "source": [
    "embeddings = HuggingFaceEmbeddings(model_name=\"all-MiniLM-L6-v2\")\n"
   ]
  },
  {
   "cell_type": "code",
   "execution_count": 7,
   "metadata": {},
   "outputs": [],
   "source": [
    "db = FAISS.from_documents(docs, embeddings)\n",
    "db.save_local(\"symptomdb.faiss\")\n"
   ]
  },
  {
   "cell_type": "code",
   "execution_count": 8,
   "metadata": {},
   "outputs": [],
   "source": [
    "# db = FAISS.load_local(\"symptomdb.faiss\", embeddings)\n"
   ]
  },
  {
   "cell_type": "code",
   "execution_count": 9,
   "metadata": {},
   "outputs": [],
   "source": [
    "from langchain.memory import ConversationBufferMemory\n",
    "from langchain.chains import ConversationalRetrievalChain, RetrievalQAWithSourcesChain\n",
    "from langchain.chat_models import ChatOpenAI\n",
    "from dotenv import load_dotenv\n",
    "from langchain.prompts import PromptTemplate\n",
    "import os\n"
   ]
  },
  {
   "cell_type": "code",
   "execution_count": 10,
   "metadata": {},
   "outputs": [],
   "source": [
    "load_dotenv()\n",
    "os.environ[\"OPENAI_API_KEY\"] = os.getenv(\"OPENAI_API_KEY\")\n"
   ]
  },
  {
   "cell_type": "code",
   "execution_count": 11,
   "metadata": {},
   "outputs": [],
   "source": [
    "llm = ChatOpenAI(temperature=0)\n"
   ]
  },
  {
   "cell_type": "code",
   "execution_count": 12,
   "metadata": {},
   "outputs": [],
   "source": [
    "memory = ConversationBufferMemory(memory_key=\"chat_history\", return_messages= True)\n",
    "chain = RetrievalQAWithSourcesChain.from_chain_type(llm, chain_type=\"stuff\", retriever=db.as_retriever())\n",
    "\n",
    "\n",
    "\n",
    "# print(result['sources'])\n"
   ]
  },
  {
   "cell_type": "code",
   "execution_count": 13,
   "metadata": {},
   "outputs": [],
   "source": [
    "query = \"I have a nosebleed and shivers\"\n",
    "result = chain({\"question\": query}, return_only_outputs=True)\n",
    "scored_docs = db.similarity_search_with_relevance_scores(query, top_k=3)\n"
   ]
  },
  {
   "cell_type": "code",
   "execution_count": 14,
   "metadata": {},
   "outputs": [
    {
     "data": {
      "text/plain": [
       "{'answer': 'Based on the symptoms described, it is possible that you are experiencing acute sinusitis. The symptoms of acute sinusitis include a runny nose, postnasal drip, congestion, and pain or pressure around the eyes, cheeks, nose, or forehead. However, it is important to consult a healthcare professional for an accurate diagnosis and appropriate treatment. As for the shivers, it is not clear from the information provided what may be causing them. It is recommended to seek medical advice for a proper evaluation. \\n',\n",
       " 'sources': \"Acute sinusitis symptoms often include:Thick, yellow or greenish mucus from the nose, known as a runny nose, or down the back of the throat, known as postnasal drip. Blocked or stuffy nose, known as congestion. This makes it hard to breathe through the nose. Pain, tenderness, swelling and pressure around the eyes, cheeks, nose or forehead that gets worse when bending over. Shivering is likely the first thing you'll notice as the temperature starts to drop because it's your body's automatic defense against cold temperature — an attempt to warm itself.Shivering Slurred speech or mumbling Slow, shallow breathing Weak pulse Clumsiness or lack of coordination Drowsiness or very low energy Confusion or memory loss Loss of consciousness Bright red, cold skin (in infants) Common symptoms of chronic sinusitis include:Thick, discolored mucus from the nose, known as a runny nose. Mucus down the back of the throat, known as postnasal drip. Blocked or stuffy nose, known as congestion. This makes it hard to breathe through the nose. Pain, tenderness and swelling around the eyes, cheeks, nose or forehead. Reduced sense of smell and taste. Nasal polyps are linked to irritation and swelling, also called inflammation, of the inside of the nose and sinuses that lasts more than 12 weeks. This is known as chronic sinusitis. But it's possible to have chronic sinusitis without getting nasal polyps.Runny, stuffy nose. Mucus running down the throat, also known as postnasal drip. Not being able to smell. Not being able to taste. Facial pain or headache. Pain in the teeth. A sense of pressure over the forehead and face. Snoring.\"}"
      ]
     },
     "execution_count": 14,
     "metadata": {},
     "output_type": "execute_result"
    }
   ],
   "source": [
    "result\n"
   ]
  },
  {
   "cell_type": "code",
   "execution_count": 15,
   "metadata": {},
   "outputs": [
    {
     "data": {
      "text/plain": [
       "[(Document(page_content='Acute sinusitis symptoms often include:Thick, yellow or greenish mucus from the nose, known as a runny nose, or down the back of the throat, known as postnasal drip. Blocked or stuffy nose, known as congestion. This makes it hard to breathe through the nose. Pain, tenderness, swelling and pressure around the eyes, cheeks, nose or forehead that gets worse when bending over.', metadata={'title': 'Acute sinusitis', 'id': 257, 'source': 'Acute sinusitis symptoms often include:Thick, yellow or greenish mucus from the nose, known as a runny nose, or down the back of the throat, known as postnasal drip. Blocked or stuffy nose, known as congestion. This makes it hard to breathe through the nose. Pain, tenderness, swelling and pressure around the eyes, cheeks, nose or forehead that gets worse when bending over.'}),\n",
       "  0.28373782749882503),\n",
       " (Document(page_content=\"Shivering is likely the first thing you'll notice as the temperature starts to drop because it's your body's automatic defense against cold temperature — an attempt to warm itself.Shivering Slurred speech or mumbling Slow, shallow breathing Weak pulse Clumsiness or lack of coordination Drowsiness or very low energy Confusion or memory loss Loss of consciousness Bright red, cold skin (in infants)\", metadata={'title': 'Hypothermia', 'id': 125, 'source': \"Shivering is likely the first thing you'll notice as the temperature starts to drop because it's your body's automatic defense against cold temperature — an attempt to warm itself.Shivering Slurred speech or mumbling Slow, shallow breathing Weak pulse Clumsiness or lack of coordination Drowsiness or very low energy Confusion or memory loss Loss of consciousness Bright red, cold skin (in infants)\"}),\n",
       "  0.25317166855326934),\n",
       " (Document(page_content='Common symptoms of chronic sinusitis include:Thick, discolored mucus from the nose, known as a runny nose. Mucus down the back of the throat, known as postnasal drip. Blocked or stuffy nose, known as congestion. This makes it hard to breathe through the nose. Pain, tenderness and swelling around the eyes, cheeks, nose or forehead. Reduced sense of smell and taste.', metadata={'title': 'Chronic sinusitis', 'id': 381, 'source': 'Common symptoms of chronic sinusitis include:Thick, discolored mucus from the nose, known as a runny nose. Mucus down the back of the throat, known as postnasal drip. Blocked or stuffy nose, known as congestion. This makes it hard to breathe through the nose. Pain, tenderness and swelling around the eyes, cheeks, nose or forehead. Reduced sense of smell and taste.'}),\n",
       "  0.24764149626645793),\n",
       " (Document(page_content=\"Nasal polyps are linked to irritation and swelling, also called inflammation, of the inside of the nose and sinuses that lasts more than 12 weeks. This is known as chronic sinusitis. But it's possible to have chronic sinusitis without getting nasal polyps.Runny, stuffy nose. Mucus running down the throat, also known as postnasal drip. Not being able to smell. Not being able to taste. Facial pain or headache. Pain in the teeth. A sense of pressure over the forehead and face. Snoring.\", metadata={'title': 'Nasal polyps', 'id': 771, 'source': \"Nasal polyps are linked to irritation and swelling, also called inflammation, of the inside of the nose and sinuses that lasts more than 12 weeks. This is known as chronic sinusitis. But it's possible to have chronic sinusitis without getting nasal polyps.Runny, stuffy nose. Mucus running down the throat, also known as postnasal drip. Not being able to smell. Not being able to taste. Facial pain or headache. Pain in the teeth. A sense of pressure over the forehead and face. Snoring.\"}),\n",
       "  0.2396935278679706)]"
      ]
     },
     "execution_count": 15,
     "metadata": {},
     "output_type": "execute_result"
    }
   ],
   "source": [
    "scored_docs\n"
   ]
  }
 ],
 "metadata": {
  "kernelspec": {
   "display_name": "Python 3",
   "language": "python",
   "name": "python3"
  },
  "language_info": {
   "codemirror_mode": {
    "name": "ipython",
    "version": 3
   },
   "file_extension": ".py",
   "mimetype": "text/x-python",
   "name": "python",
   "nbconvert_exporter": "python",
   "pygments_lexer": "ipython3",
   "version": "3.11.5"
  }
 },
 "nbformat": 4,
 "nbformat_minor": 2
}
