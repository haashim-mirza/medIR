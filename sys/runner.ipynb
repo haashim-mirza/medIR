{
 "cells": [
  {
   "cell_type": "code",
   "execution_count": 129,
   "metadata": {},
   "outputs": [],
   "source": [
    "import csv\n",
    "from collections import Counter, defaultdict\n",
    "from tqdm import tqdm\n",
    "import json\n",
    "import numpy as np\n",
    "import gzip\n",
    "from datetime import datetime\n",
    "from sentence_transformers import SentenceTransformer\n",
    "import os\n",
    "import re\n",
    "import joblib\n",
    "from sklearn import metrics\n",
    "import pandas as pd\n",
    "import seaborn as sns\n",
    "import matplotlib.pyplot as plt\n",
    "\n",
    "# your modules are imported here\n",
    "from indexing import Indexer, BasicInvertedIndex\n",
    "from document_preprocessor import RegexTokenizer, Doc2QueryAugmenter\n",
    "from ranker import Ranker, BM25, CrossEncoderScorer\n",
    "from vector_ranker import VectorRanker\n",
    "from l2r import L2RFeatureExtractor, L2RRanker\n",
    "from vectordb_ranker import VectorDBRanker"
   ]
  },
  {
   "cell_type": "code",
   "execution_count": 34,
   "metadata": {},
   "outputs": [],
   "source": [
    "from importlib import reload\n",
    "import indexing\n",
    "reload(indexing)\n",
    "from indexing import Indexer\n",
    "import document_preprocessor\n",
    "reload(document_preprocessor)\n",
    "from document_preprocessor import RegexTokenizer, Doc2QueryAugmenter\n",
    "import l2r\n",
    "reload(l2r)\n",
    "from l2r import L2RFeatureExtractor, L2RRanker"
   ]
  },
  {
   "cell_type": "code",
   "execution_count": 35,
   "metadata": {},
   "outputs": [],
   "source": [
    "data_prefix = '../data/'\n",
    "model_prefix = '../models/'"
   ]
  },
  {
   "cell_type": "code",
   "execution_count": 4,
   "metadata": {},
   "outputs": [],
   "source": [
    "with open(data_prefix + 'rec_cats.json', 'r') as f:\n",
    "    rec_cats = json.load(f)\n",
    "    five_cats = rec_cats['short']\n",
    "    all_cats = rec_cats['full']\n",
    "with open(data_prefix + 'doc_cat_info.json', 'r') as f:\n",
    "    doc_cat_info = json.load(f)\n",
    "    doc_cat_info = {int(k):v for k, v in doc_cat_info.items()}"
   ]
  },
  {
   "cell_type": "code",
   "execution_count": 5,
   "metadata": {},
   "outputs": [],
   "source": [
    "# with open('../interior_dic.json', 'r') as f:\n",
    "#     query_alts_rels = json.load(f)\n",
    "#     queries = list(query_alts_rels.keys())\n",
    "#     for query in queries:\n",
    "#         del query_alts_rels[query]['alt_qs'][5]\n",
    "#         for i in range(5):\n",
    "#             q = query_alts_rels[query]['alt_qs'][i]\n",
    "#             query_alts_rels[query]['alt_qs'][i] = q[3:]\n",
    "#         query_alts_rels[query]['scored_docs'] = [(l[0], l[1]) for l in query_alts_rels[query]['scored_docs']]\n",
    "#     train_queries = queries[:41]\n",
    "#     test_queries = queries[41:]\n",
    "# with open('../train_data.json', 'w') as f:\n",
    "#     train_data = {query: query_alts_rels[query] for query in train_queries}\n",
    "#     test_data = {query: query_alts_rels[query] for query in test_queries}\n",
    "#     json.dump(train_data, f, indent=2)\n",
    "# with open('../test_data.json', 'w') as f:\n",
    "#     json.dump(test_data, f, indent=2)\n"
   ]
  },
  {
   "cell_type": "code",
   "execution_count": 6,
   "metadata": {},
   "outputs": [],
   "source": [
    "# aug1 = Doc2QueryAugmenter()\n",
    "# aug2 = Doc2QueryAugmenter('doc2query/msmarco-t5-small-v1')\n",
    "# aug3 = Doc2QueryAugmenter('google/flan-t5-small')\n",
    "# prefix = \"Generate a query for the following text: \""
   ]
  },
  {
   "cell_type": "code",
   "execution_count": 7,
   "metadata": {},
   "outputs": [],
   "source": [
    "# with open('../final_data_with_categories.json', 'r') as f:\n",
    "#     lines = f.readlines()\n",
    "#     docs = []\n",
    "#     for line in tqdm(lines):\n",
    "#         doc = json.loads(line)\n",
    "#         doc['alt_qs'] = aug1.get_queries(doc['text'], 5)\n",
    "#         doc['dumb_qs_1'] = aug2.get_queries(doc['text'], 5)\n",
    "#         doc['dumb_qs_2'] = aug3.get_queries(doc['text'], 5, prefix)\n",
    "#         docs.append(doc)\n",
    "# with open('../data/doc_dataset.jsonl', 'a') as f:\n",
    "#     for doc in docs:\n",
    "#         f.write(json.dumps(doc) + '\\n')"
   ]
  },
  {
   "cell_type": "code",
   "execution_count": 8,
   "metadata": {},
   "outputs": [],
   "source": [
    "# with open('../data/doc_dataset_old.jsonl', 'r') as f:\n",
    "#     line = f.readline()\n",
    "#     doc_inds = [m.start() for m in re.finditer('{\"docid\":', line)]\n",
    "#     docs = []\n",
    "#     for i in range(len(doc_inds)):\n",
    "#         start = doc_inds[i]\n",
    "#         end = len(line) if i == len(doc_inds) - 1 else doc_inds[i + 1]\n",
    "#         doc_text = line[start:end]\n",
    "#         doc = json.loads(doc_text)\n",
    "#         docs.append(doc)"
   ]
  },
  {
   "cell_type": "code",
   "execution_count": 9,
   "metadata": {},
   "outputs": [],
   "source": [
    "# with open('../data/doc_dataset.jsonl', 'a') as f:\n",
    "#     for doc in docs:\n",
    "#         f.write(json.dumps(doc) + '\\n')"
   ]
  },
  {
   "cell_type": "code",
   "execution_count": 10,
   "metadata": {},
   "outputs": [
    {
     "data": {
      "text/plain": [
       "'Stopwords collected 543'"
      ]
     },
     "execution_count": 10,
     "metadata": {},
     "output_type": "execute_result"
    }
   ],
   "source": [
    "doc_preproc = RegexTokenizer('\\\\w+')\n",
    "stopwords = set()\n",
    "with open(data_prefix + 'stopwords.txt', 'r', encoding='utf-8') as file:\n",
    "    for stopword in file:\n",
    "        stopwords.add(stopword.strip())\n",
    "f'Stopwords collected {len(stopwords)}'"
   ]
  },
  {
   "cell_type": "code",
   "execution_count": 11,
   "metadata": {},
   "outputs": [],
   "source": [
    "# doc_base_index = Indexer.create_index(data_prefix + 'doc_dataset.jsonl', doc_preproc, stopwords, 'text', 'alt_qs', data_prefix + 'doc_base_index')"
   ]
  },
  {
   "cell_type": "code",
   "execution_count": 12,
   "metadata": {},
   "outputs": [],
   "source": [
    "doc_base_index = BasicInvertedIndex()\n",
    "doc_base_index.load(data_prefix + 'doc_base_index')\n",
    "doc_small_index = BasicInvertedIndex()\n",
    "doc_small_index.load(data_prefix + 'doc_small_index')\n",
    "doc_flan_index = BasicInvertedIndex()\n",
    "doc_flan_index.load(data_prefix + 'doc_flan_index')\n",
    "doc_index = BasicInvertedIndex()\n",
    "doc_index.load(data_prefix + 'doc_index')\n",
    "tit_index = BasicInvertedIndex()\n",
    "tit_index.load(data_prefix + 'title_index')"
   ]
  },
  {
   "cell_type": "code",
   "execution_count": 13,
   "metadata": {},
   "outputs": [],
   "source": [
    "# doc_small_index = Indexer.create_index(data_prefix + 'doc_dataset.jsonl', doc_preproc, stopwords, 'text', 'dumb_qs_1', data_prefix + 'doc_small_index')\n",
    "# doc_flan_index = Indexer.create_index(data_prefix + 'doc_dataset.jsonl', doc_preproc, stopwords, 'text', 'dumb_qs_2', data_prefix + 'doc_flan_index')\n",
    "# doc_index = Indexer.create_index(data_prefix + 'doc_dataset.jsonl', doc_preproc, stopwords, 'text', '', data_prefix + 'doc_index')\n",
    "# tit_index = Indexer.create_index(data_prefix + 'doc_dataset.jsonl', doc_preproc, stopwords, 'title', '', data_prefix + 'title_index')\n"
   ]
  },
  {
   "cell_type": "code",
   "execution_count": 14,
   "metadata": {},
   "outputs": [],
   "source": [
    "def query_runner(ranker, queries):\n",
    "    scores = [ranker.query(query) for query in queries]\n",
    "    final_scores = []\n",
    "    docids = [dic['docid'] for dic in scores[0]]\n",
    "    for doc in docids:\n",
    "        cum_score = 0\n",
    "        for score_l in scores:\n",
    "            for dic in score_l:\n",
    "                if dic['docid'] == doc:\n",
    "                    cum_score += dic['score']\n",
    "                    break\n",
    "        final_scores.append({'docid': doc, 'score': cum_score / len(queries)})\n",
    "    return final_scores"
   ]
  },
  {
   "cell_type": "code",
   "execution_count": 15,
   "metadata": {},
   "outputs": [],
   "source": [
    "with open(data_prefix + 'raw_text.json', 'r') as f:\n",
    "    raw_text_dict = json.load(f)\n",
    "    raw_text_dict = {int(k):v for k, v in raw_text_dict.items()}\n",
    "with open(data_prefix + 'base_raw_text.json', 'r') as f:\n",
    "    base_raw_text_dict = json.load(f)\n",
    "    base_raw_text_dict = {int(k):v for k, v in base_raw_text_dict.items()}\n",
    "with open(data_prefix + 'small_raw_text.json', 'r') as f:\n",
    "    small_raw_text_dict = json.load(f)\n",
    "    small_raw_text_dict = {int(k):v for k, v in small_raw_text_dict.items()}\n",
    "with open(data_prefix + 'flan_raw_text.json', 'r') as f:\n",
    "    flan_raw_text_dict = json.load(f)\n",
    "    flan_raw_text_dict = {int(k):v for k, v in flan_raw_text_dict.items()}"
   ]
  },
  {
   "cell_type": "code",
   "execution_count": 16,
   "metadata": {},
   "outputs": [],
   "source": [
    "ce_scorer = CrossEncoderScorer(raw_text_dict)\n",
    "bce_scorer = CrossEncoderScorer(base_raw_text_dict)\n",
    "sce_scorer = CrossEncoderScorer(small_raw_text_dict)\n",
    "fce_scorer = CrossEncoderScorer(flan_raw_text_dict)"
   ]
  },
  {
   "cell_type": "code",
   "execution_count": 17,
   "metadata": {},
   "outputs": [],
   "source": [
    "nn_feat_extract = L2RFeatureExtractor(doc_index, tit_index, doc_cat_info, doc_preproc, stopword, set(), ce_scorer)\n",
    "nf_feat_extract = L2RFeatureExtractor(doc_index, tit_index, doc_cat_info, doc_preproc, stopword, set(five_cats), ce_scorer)\n",
    "na_feat_extract = L2RFeatureExtractor(doc_index, tit_index, doc_cat_info, doc_preproc, stopword, set(all_cats), ce_scorer)\n",
    "bf_feat_extract = L2RFeatureExtractor(doc_base_index, tit_index, doc_cat_info, doc_preproc, stopword, set(five_cats), bce_scorer)\n",
    "sf_feat_extract = L2RFeatureExtractor(doc_small_index, tit_index, doc_cat_info, doc_preproc, stopword, set(five_cats), sce_scorer)\n",
    "ff_feat_extract = L2RFeatureExtractor(doc_flan_index, tit_index, doc_cat_info, doc_preproc, stopword, set(five_cats), fce_scorer)\n",
    "ba_feat_extract = L2RFeatureExtractor(doc_base_index, tit_index, doc_cat_info, doc_preproc, stopword, set(all_cats), bce_scorer)"
   ]
  },
  {
   "cell_type": "code",
   "execution_count": 4,
   "metadata": {},
   "outputs": [
    {
     "ename": "",
     "evalue": "",
     "output_type": "error",
     "traceback": [
      "\u001b[1;31mThe Kernel crashed while executing code in the the current cell or a previous cell. Please review the code in the cell(s) to identify a possible cause of the failure. Click <a href='https://aka.ms/vscodeJupyterKernelCrash'>here</a> for more info. View Jupyter <a href='command:jupyter.viewOutput'>log</a> for further details."
     ]
    }
   ],
   "source": [
    "nn_model = joblib.load(model_prefix + 'nn_model.joblib')\n",
    "nf_model = joblib.load(model_prefix + 'nf_model.joblib')\n",
    "na_model = joblib.load(model_prefix + 'na_model.joblib')\n",
    "bf_model = joblib.load(model_prefix + 'bf_model.joblib')\n",
    "sf_model = joblib.load(model_prefix + 'sf_model.joblib')\n",
    "ff_model = joblib.load(model_prefix + 'ff_model.joblib')\n",
    "ba_model = joblib.load(model_prefix + 'ba_model.joblib')"
   ]
  },
  {
   "cell_type": "code",
   "execution_count": 21,
   "metadata": {},
   "outputs": [],
   "source": [
    "with open(data_prefix + 'test_data.json', 'r') as f:\n",
    "    test_data = json.load(f)\n",
    "    test_queries = list(test_data.keys())"
   ]
  },
  {
   "cell_type": "code",
   "execution_count": null,
   "metadata": {},
   "outputs": [],
   "source": [
    "bm25_ranker = BM25(doc_index)\n",
    "vdb_ranker = VectorDBRanker(raw_text_dict)\n",
    "bvdb_ranker = VectorDBRanker(base_raw_text_dict)\n",
    "svdb_ranker = VectorDBRanker(small_raw_text_dict)\n",
    "fvdb_ranker = VectorDBRanker(flan_raw_text_dict)"
   ]
  },
  {
   "cell_type": "code",
   "execution_count": null,
   "metadata": {},
   "outputs": [],
   "source": [
    "bm25_nq_nn_ranker = L2RRanker(doc_index, tit_index, doc_preproc, stopword, bm25_ranker, nn_feat_extract)\n",
    "bm25_nq_nn_ranker.model.lgbmranker = nn_model\n",
    "bm25_nq_nn_scores = [bm25_nq_nn_ranker.query(query) for query in test_queries]"
   ]
  },
  {
   "cell_type": "code",
   "execution_count": null,
   "metadata": {},
   "outputs": [],
   "source": [
    "bm25_nq_nf_ranker = L2RRanker(doc_index, tit_index, doc_preproc, stopword, bm25_ranker, nf_feat_extract)\n",
    "bm25_nq_nf_ranker.model.lgbmranker = nf_model\n",
    "bm25_nq_nf_scores = [bm25_nq_nf_ranker.query(query) for query in test_queries]"
   ]
  },
  {
   "cell_type": "code",
   "execution_count": null,
   "metadata": {},
   "outputs": [],
   "source": [
    "bienc_nq_nn_ranker = L2RRanker(doc_index, tit_index, doc_preproc, stopword, vdb_ranker, nn_feat_extract)\n",
    "bienc_nq_nn_ranker.model.lgbmranker = nn_model\n",
    "bienc_nq_nn_scores = [bm25_nq_nn_ranker.query(query) for query in test_queries]"
   ]
  },
  {
   "cell_type": "code",
   "execution_count": null,
   "metadata": {},
   "outputs": [],
   "source": [
    "bienc_nq_na_ranker = L2RRanker(doc_index, tit_index, doc_preproc, stopword, vdb_ranker, na_feat_extract)\n",
    "bienc_nq_na_ranker.model.lgbmranker = na_model\n",
    "bienc_nq_na_scores = [bienc_nq_na_ranker.query(query) for query in test_queries]"
   ]
  },
  {
   "cell_type": "code",
   "execution_count": null,
   "metadata": {},
   "outputs": [],
   "source": [
    "bienc_nq_nf_ranker = L2RRanker(doc_index, tit_index, doc_preproc, stopword, vdb_ranker, nf_feat_extract)\n",
    "bienc_nq_nf_ranker.model.lgbmranker = nf_model\n",
    "bienc_nq_nf_scores = [bienc_nq_nf_ranker.query(query) for query in test_queries]"
   ]
  },
  {
   "cell_type": "code",
   "execution_count": null,
   "metadata": {},
   "outputs": [],
   "source": [
    "bienc_tq_nf_ranker = L2RRanker(doc_index, tit_index, doc_preproc, stopword, vdb_ranker, nf_feat_extract)\n",
    "bienc_tq_nf_ranker.model.lgbmranker = nf_model\n",
    "bienc_tq_nf_scores = [query_runner(bienc_tq_nf_ranker, [query, test_data[query]['alt_qs'][-1]]) for query in test_queries]"
   ]
  },
  {
   "cell_type": "code",
   "execution_count": null,
   "metadata": {},
   "outputs": [],
   "source": [
    "bienc_sq_nf_ranker = L2RRanker(doc_index, tit_index, doc_preproc, stopword, vdb_ranker, nf_feat_extract)\n",
    "bienc_sq_nf_ranker.model.lgbmranker = nf_model\n",
    "bienc_sq_nf_scores = [query_runner(bienc_sq_nf_ranker, [query] + test_data[query]['alt_qs'][:5]) for query in test_queries]"
   ]
  },
  {
   "cell_type": "code",
   "execution_count": null,
   "metadata": {},
   "outputs": [],
   "source": [
    "bienc_aq_nf_ranker = L2RRanker(doc_index, tit_index, doc_preproc, stopword, vdb_ranker, nf_feat_extract)\n",
    "bienc_aq_nf_ranker.model.lgbmranker = nf_model\n",
    "bienc_aq_nf_scores = [query_runner(bienc_aq_nf_ranker, [query] + test_data[query]['alt_qs']) for query in test_queries]"
   ]
  },
  {
   "cell_type": "code",
   "execution_count": null,
   "metadata": {},
   "outputs": [],
   "source": [
    "bienc_nq_bf_ranker = L2RRanker(doc_base_index, tit_index, doc_preproc, stopword, bvdb_ranker, bf_feat_extract)\n",
    "bienc_nq_bf_ranker.model.lgbmranker = bf_model\n",
    "bienc_nq_bf_scores = [bienc_nq_bf_ranker.query(query) for query in test_queries]"
   ]
  },
  {
   "cell_type": "code",
   "execution_count": null,
   "metadata": {},
   "outputs": [],
   "source": [
    "bienc_nq_sf_ranker = L2RRanker(doc_small_index, tit_index, doc_preproc, stopword, svdb_ranker, sf_feat_extract)\n",
    "bienc_nq_sf_ranker.model.lgbmranker = sf_model\n",
    "bienc_nq_sf_scores = [bienc_nq_sf_ranker.query(query) for query in test_queries]"
   ]
  },
  {
   "cell_type": "code",
   "execution_count": null,
   "metadata": {},
   "outputs": [],
   "source": [
    "bienc_nq_ff_ranker = L2RRanker(doc_flan_index, tit_index, doc_preproc, stopword, fvdb_ranker, ff_feat_extract)\n",
    "bienc_nq_ff_ranker.model.lgbmranker = ff_model\n",
    "bienc_nq_ff_scores = [bienc_nq_ff_ranker.query(query) for query in test_queries]"
   ]
  },
  {
   "cell_type": "code",
   "execution_count": null,
   "metadata": {},
   "outputs": [],
   "source": [
    "bienc_aq_ba_ranker = L2RRanker(doc_base_index, tit_index, doc_preproc, stopword, bvdb_ranker, ba_feat_extract)\n",
    "bienc_aq_ba_ranker.model.lgbmranker = ba_model\n",
    "bienc_aq_ba_scores = [query_runner(bienc_aq_ba_ranker, [query] + test_data[query]['alt_qs']) for query in test_queries]"
   ]
  },
  {
   "cell_type": "code",
   "execution_count": null,
   "metadata": {},
   "outputs": [],
   "source": [
    "from sklearn.metrics import ndcg_score\n",
    "true_relevance = np.array([[20, 0, 0, 1, 5]])\n",
    "scores = np.array([[-10, -100, -100, -15, -12]])\n",
    "ndcg_score(true_relevance, scores)"
   ]
  },
  {
   "cell_type": "code",
   "execution_count": 22,
   "metadata": {},
   "outputs": [
    {
     "name": "stdout",
     "output_type": "stream",
     "text": [
      "dict_keys(['What are the symptoms of a rash on the hands?', 'what do we need to know before attelectasis is diagnosed?', 'How do you know if you have a popliteal artery aneurysm?', 'what are the symptoms of pediatric sleep apnea?', 'what is the common sign of spinal stenosis', 'who has a broken nose?', 'Which syndrome is known as triple X syndrome?', 'What are the symptoms of chronic hives?', 'What is the typical time span for the development of symptoms of epiglottitis?', 'What are the symptoms of long term exposure to asbestos?', 'What can increase the pain?', 'Who does the word \"abuser\" refer to?', 'How can you tell if you are albinic?', 'What are some symptoms of pediatric sleep apnea?', 'What is the first symptom that should be looked for in infants with reflux?', 'what are signs and symptoms of encopresis?', 'What is the most common sign of hydrocele?', 'what can cause blood in your urine?'])\n"
     ]
    }
   ],
   "source": [
    "print(test_data.keys())"
   ]
  },
  {
   "cell_type": "code",
   "execution_count": 23,
   "metadata": {},
   "outputs": [
    {
     "name": "stdout",
     "output_type": "stream",
     "text": [
      "[[374, 1], [742, 1], [647, 1], [547, 1], [186, 1], [66, 1], [668, 1], [699, 1], [281, 1], [587, 1], [943, 1], [1006, 1], [557, 1], [112, 1], [359, 1], [471, 1], [580, 1], [500, 1], [549, 2], [143, 1], [520, 1], [800, 1], [145, 1], [910, 1], [280, 1], [1050, 2], [478, 1], [21, 1], [522, 4], [1017, 1], [841, 1], [217, 1], [685, 1], [273, 4], [738, 1], [187, 1], [87, 1], [1030, 1], [698, 1], [308, 1], [405, 1], [533, 1], [794, 1], [770, 1], [990, 1], [667, 1], [475, 1], [80, 1], [346, 1], [378, 1]]\n"
     ]
    }
   ],
   "source": [
    "print(test_data['What are the symptoms of a rash on the hands?']['scored_docs'])"
   ]
  },
  {
   "cell_type": "code",
   "execution_count": 24,
   "metadata": {},
   "outputs": [],
   "source": [
    "for query in test_data.keys():\n",
    "    test_data[query]['scored_docs'] = {tup[0]:tup[1] for tup in test_data[query]['scored_docs']}"
   ]
  },
  {
   "cell_type": "code",
   "execution_count": 95,
   "metadata": {},
   "outputs": [],
   "source": [
    "def run_rel(query, scores):\n",
    "    if len(scores) == 0:\n",
    "        return 0\n",
    "    y_score = np.array([[tup[1] for tup in scores]])\n",
    "    data = test_data[query]['scored_docs']\n",
    "    y_true = np.array([[1 if tup[0] not in data.keys() else data[tup[0]] for tup in scores]])\n",
    "    ndcg = metrics.ndcg_score(y_true, y_score, k=10)\n",
    "    return ndcg"
   ]
  },
  {
   "cell_type": "code",
   "execution_count": 112,
   "metadata": {},
   "outputs": [],
   "source": [
    "def run_rel(query, scores):\n",
    "    if len(scores) == 0:\n",
    "        return 0\n",
    "    y_score = np.array([[dic['score'] for dic in scores]])\n",
    "    data = test_data[query]['scored_docs']\n",
    "    y_true = np.array([[1 if dic['docid'] not in data.keys() else data[dic['docid']] for dic in scores]])\n",
    "    ndcg = metrics.ndcg_score(y_true, y_score, k=10)\n",
    "    return ndcg"
   ]
  },
  {
   "cell_type": "code",
   "execution_count": null,
   "metadata": {},
   "outputs": [],
   "source": [
    "def run_rel(query, scores):\n",
    "    order = [tup[0] for tup in scores]\n",
    "    data = test_data[query]\n",
    "    act_scores = []\n",
    "    for docid in order:\n",
    "        if docid in data.keys():\n",
    "            act_scores.append(data[docid])\n",
    "        else:\n",
    "            act_scores.append(1)\n",
    "    id_scores = sorted(act_scores, reverse=True)\n",
    "    map_inp = [1 if score > 3 else 0 for score in act_scores]\n",
    "    ndcg = ndcg_score(act_scores, id_scores)\n",
    "    return ndcg"
   ]
  },
  {
   "cell_type": "code",
   "execution_count": 113,
   "metadata": {},
   "outputs": [],
   "source": [
    "all_scores = {}\n",
    "with open(data_prefix + 'l2r_scores.json', 'r') as f:\n",
    "    all_scores = json.load(f)"
   ]
  },
  {
   "cell_type": "code",
   "execution_count": 110,
   "metadata": {},
   "outputs": [],
   "source": [
    "with open(data_prefix + 'scores_saved.json', 'r') as f:\n",
    "    all_scores2 = json.load(f)"
   ]
  },
  {
   "cell_type": "code",
   "execution_count": 86,
   "metadata": {},
   "outputs": [],
   "source": [
    "for k in all_scores2.keys():\n",
    "    all_scores[k] = all_scores2[k]"
   ]
  },
  {
   "cell_type": "code",
   "execution_count": 111,
   "metadata": {},
   "outputs": [],
   "source": [
    "models2 = list(all_scores2.keys())\n",
    "model_ndcgs2 = []\n",
    "for model in models2:\n",
    "    scores = all_scores2[model]\n",
    "    ndcgs = [run_rel(test_queries[i], scores[i]) for i in range(len(test_queries))]\n",
    "    model_ndcgs2.append(ndcgs)"
   ]
  },
  {
   "cell_type": "code",
   "execution_count": 103,
   "metadata": {},
   "outputs": [
    {
     "name": "stdout",
     "output_type": "stream",
     "text": [
      "['bm25_native_scores', 'random_ranker_scores']\n",
      "[0.43827031084946777, 1.0, 1.0, 1.0, 1.0, 1.0, 1.0, 0.6023097498746199, 1.0, 1.0, 0.3225181699807339, 1.0, 0, 1.0, 1.0, 1.0, 1.0, 0.49523840430730154]\n"
     ]
    }
   ],
   "source": [
    "print(models2)\n",
    "print(model_ndcgs2)"
   ]
  },
  {
   "cell_type": "code",
   "execution_count": 114,
   "metadata": {},
   "outputs": [],
   "source": [
    "models = list(all_scores.keys())\n",
    "model_ndcgs = []\n",
    "for model in models:\n",
    "    scores = all_scores[model]\n",
    "    ndcgs = [run_rel(test_queries[i], scores[i]) for i in range(len(test_queries))]\n",
    "    model_ndcgs.append(ndcgs)"
   ]
  },
  {
   "cell_type": "code",
   "execution_count": 115,
   "metadata": {},
   "outputs": [],
   "source": [
    "big_models = models2 + models\n",
    "big_model_ndcgs = model_ndcgs2 + model_ndcgs"
   ]
  },
  {
   "cell_type": "code",
   "execution_count": 116,
   "metadata": {},
   "outputs": [],
   "source": [
    "df_data = []\n",
    "for i in range(len(big_model_ndcgs)):\n",
    "    l = big_model_ndcgs[i]\n",
    "    for j in range(len(l)):\n",
    "        row = [big_models[i], test_queries[j], l[j]]\n",
    "        df_data.append(row)\n"
   ]
  },
  {
   "cell_type": "code",
   "execution_count": 119,
   "metadata": {},
   "outputs": [
    {
     "name": "stdout",
     "output_type": "stream",
     "text": [
      "(5, 0.8361975833935313)\n",
      "(0, 0.8243913953581213)\n"
     ]
    }
   ],
   "source": [
    "model_ndcgs3 = model_ndcgs + model_ndcgs2\n",
    "lst = []\n",
    "for l in big_model_ndcgs:\n",
    "    lst.append(np.mean(l))\n",
    "print(max(enumerate(lst), key=lambda x: x[1]))\n",
    "print(min(enumerate(lst), key=lambda x: x[1]))"
   ]
  },
  {
   "cell_type": "code",
   "execution_count": 136,
   "metadata": {},
   "outputs": [
    {
     "name": "stdout",
     "output_type": "stream",
     "text": [
      "[(5, 0.8361975833935313), (6, 0.8361975833935313), (8, 0.8343385711337683), (7, 0.8338716434661454), (11, 0.8331131800859899), (9, 0.832429702594027), (13, 0.8306648221162666), (12, 0.8297502668487251), (10, 0.8293907973382157), (3, 0.8289533923934437), (1, 0.8254631463895623), (2, 0.8253942797912481), (4, 0.8253942797912481), (0, 0.8243913953581213)]\n",
      "[('bienc_nq_na_ranker', 0.8361975833935313), ('bienc_nq_nf_ranker', 0.8361975833935313), ('bienc_sq_nf_ranker', 0.8343385711337683), ('bienc_tq_nf_ranker', 0.8338716434661454), ('bienc_nq_sf_ranker', 0.8331131800859899), ('bienc_aq_nf_ranker', 0.832429702594027), ('bienc_nq_ff_ranker', 0.8306648221162666), ('bienc_aq_ba_ranker', 0.8297502668487251), ('bienc_nq_bf_ranker', 0.8293907973382157), ('bm25_nq_nf_ranker', 0.8289533923934437), ('random_ranker_scores', 0.8254631463895623), ('bm25_nq_nn_ranker', 0.8253942797912481), ('bienc_nq_nn_ranker', 0.8253942797912481), ('bm25_native_scores', 0.8243913953581213)]\n"
     ]
    }
   ],
   "source": [
    "sorted_means = sorted(enumerate(lst), key=lambda x: x[1], reverse=True)\n",
    "sorted_models = [(big_models[i], s) for i, s in sorted_means]\n",
    "print(sorted_means)\n",
    "print(sorted_models)"
   ]
  },
  {
   "cell_type": "code",
   "execution_count": 138,
   "metadata": {},
   "outputs": [
    {
     "data": {
      "text/html": [
       "<div>\n",
       "<style scoped>\n",
       "    .dataframe tbody tr th:only-of-type {\n",
       "        vertical-align: middle;\n",
       "    }\n",
       "\n",
       "    .dataframe tbody tr th {\n",
       "        vertical-align: top;\n",
       "    }\n",
       "\n",
       "    .dataframe thead th {\n",
       "        text-align: right;\n",
       "    }\n",
       "</style>\n",
       "<table border=\"1\" class=\"dataframe\">\n",
       "  <thead>\n",
       "    <tr style=\"text-align: right;\">\n",
       "      <th></th>\n",
       "      <th>model</th>\n",
       "      <th>ndcg</th>\n",
       "    </tr>\n",
       "    <tr>\n",
       "      <th>rank</th>\n",
       "      <th></th>\n",
       "      <th></th>\n",
       "    </tr>\n",
       "  </thead>\n",
       "  <tbody>\n",
       "    <tr>\n",
       "      <th>1</th>\n",
       "      <td>bienc_nq_na_ranker</td>\n",
       "      <td>0.836198</td>\n",
       "    </tr>\n",
       "    <tr>\n",
       "      <th>2</th>\n",
       "      <td>bienc_nq_nf_ranker</td>\n",
       "      <td>0.836198</td>\n",
       "    </tr>\n",
       "    <tr>\n",
       "      <th>3</th>\n",
       "      <td>bienc_sq_nf_ranker</td>\n",
       "      <td>0.834339</td>\n",
       "    </tr>\n",
       "    <tr>\n",
       "      <th>4</th>\n",
       "      <td>bienc_tq_nf_ranker</td>\n",
       "      <td>0.833872</td>\n",
       "    </tr>\n",
       "    <tr>\n",
       "      <th>5</th>\n",
       "      <td>bienc_nq_sf_ranker</td>\n",
       "      <td>0.833113</td>\n",
       "    </tr>\n",
       "    <tr>\n",
       "      <th>6</th>\n",
       "      <td>bienc_aq_nf_ranker</td>\n",
       "      <td>0.832430</td>\n",
       "    </tr>\n",
       "    <tr>\n",
       "      <th>7</th>\n",
       "      <td>bienc_nq_ff_ranker</td>\n",
       "      <td>0.830665</td>\n",
       "    </tr>\n",
       "    <tr>\n",
       "      <th>8</th>\n",
       "      <td>bienc_aq_ba_ranker</td>\n",
       "      <td>0.829750</td>\n",
       "    </tr>\n",
       "    <tr>\n",
       "      <th>9</th>\n",
       "      <td>bienc_nq_bf_ranker</td>\n",
       "      <td>0.829391</td>\n",
       "    </tr>\n",
       "    <tr>\n",
       "      <th>10</th>\n",
       "      <td>bm25_nq_nf_ranker</td>\n",
       "      <td>0.828953</td>\n",
       "    </tr>\n",
       "    <tr>\n",
       "      <th>11</th>\n",
       "      <td>random_ranker_scores</td>\n",
       "      <td>0.825463</td>\n",
       "    </tr>\n",
       "    <tr>\n",
       "      <th>12</th>\n",
       "      <td>bm25_nq_nn_ranker</td>\n",
       "      <td>0.825394</td>\n",
       "    </tr>\n",
       "    <tr>\n",
       "      <th>13</th>\n",
       "      <td>bienc_nq_nn_ranker</td>\n",
       "      <td>0.825394</td>\n",
       "    </tr>\n",
       "    <tr>\n",
       "      <th>14</th>\n",
       "      <td>bm25_native_scores</td>\n",
       "      <td>0.824391</td>\n",
       "    </tr>\n",
       "  </tbody>\n",
       "</table>\n",
       "</div>"
      ],
      "text/plain": [
       "                     model      ndcg\n",
       "rank                                \n",
       "1       bienc_nq_na_ranker  0.836198\n",
       "2       bienc_nq_nf_ranker  0.836198\n",
       "3       bienc_sq_nf_ranker  0.834339\n",
       "4       bienc_tq_nf_ranker  0.833872\n",
       "5       bienc_nq_sf_ranker  0.833113\n",
       "6       bienc_aq_nf_ranker  0.832430\n",
       "7       bienc_nq_ff_ranker  0.830665\n",
       "8       bienc_aq_ba_ranker  0.829750\n",
       "9       bienc_nq_bf_ranker  0.829391\n",
       "10       bm25_nq_nf_ranker  0.828953\n",
       "11    random_ranker_scores  0.825463\n",
       "12       bm25_nq_nn_ranker  0.825394\n",
       "13      bienc_nq_nn_ranker  0.825394\n",
       "14      bm25_native_scores  0.824391"
      ]
     },
     "execution_count": 138,
     "metadata": {},
     "output_type": "execute_result"
    }
   ],
   "source": [
    "rank_df = pd.DataFrame(sorted_models, columns=['model', 'ndcg'])\n",
    "rank_df.index.name = 'rank'\n",
    "rank_df.index += 1\n",
    "rank_df"
   ]
  },
  {
   "cell_type": "code",
   "execution_count": 123,
   "metadata": {},
   "outputs": [
    {
     "name": "stdout",
     "output_type": "stream",
     "text": [
      "bienc_nq_na_ranker\n",
      "bm25_native_scores\n",
      "0.8254631463895623\n",
      "['bm25_native_scores', 'random_ranker_scores', 'bm25_nq_nn_ranker', 'bm25_nq_nf_ranker', 'bienc_nq_nn_ranker', 'bienc_nq_na_ranker', 'bienc_nq_nf_ranker', 'bienc_tq_nf_ranker', 'bienc_sq_nf_ranker', 'bienc_aq_nf_ranker', 'bienc_nq_bf_ranker', 'bienc_nq_sf_ranker', 'bienc_aq_ba_ranker', 'bienc_nq_ff_ranker']\n"
     ]
    }
   ],
   "source": [
    "print(big_models[5])\n",
    "print(big_models[0])\n",
    "print(lst[1])\n",
    "print(big_models)"
   ]
  },
  {
   "cell_type": "code",
   "execution_count": 98,
   "metadata": {},
   "outputs": [],
   "source": [
    "for i in range(len(model_ndcgs2)):\n",
    "    l = model_ndcgs2[i]\n",
    "    for j in range(len(l)):\n",
    "        row = [models[i], test_queries[j], l[j]]\n",
    "        df_data.append(row)"
   ]
  },
  {
   "cell_type": "code",
   "execution_count": 131,
   "metadata": {},
   "outputs": [],
   "source": [
    "df = pd.DataFrame(df_data, columns = ['model', 'query', 'ndcg'])"
   ]
  },
  {
   "cell_type": "code",
   "execution_count": 133,
   "metadata": {},
   "outputs": [
    {
     "data": {
      "image/png": "[encoded data removed]",
      "text/plain": [
       "<Figure size 640x480 with 1 Axes>"
      ]
     },
     "metadata": {},
     "output_type": "display_data"
    }
   ],
   "source": [
    "ax = sns.barplot(data=df, x=\"model\", y=\"ndcg\", estimator=np.mean)\n",
    "plt.xticks(rotation=90)\n",
    "ax.set_title('mean ndcg score per model');"
   ]
  },
  {
   "cell_type": "code",
   "execution_count": null,
   "metadata": {},
   "outputs": [],
   "source": []
  }
 ],
 "metadata": {
  "kernelspec": {
   "display_name": "si650",
   "language": "python",
   "name": "python3"
  },
  "language_info": {
   "codemirror_mode": {
    "name": "ipython",
    "version": 3
   },
   "file_extension": ".py",
   "mimetype": "text/x-python",
   "name": "python",
   "nbconvert_exporter": "python",
   "pygments_lexer": "ipython3",
   "version": "3.11.5"
  }
 },
 "nbformat": 4,
 "nbformat_minor": 2
}
